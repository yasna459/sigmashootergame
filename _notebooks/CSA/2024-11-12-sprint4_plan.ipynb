{
 "cells": [
  {
   "cell_type": "raw",
   "metadata": {
    "vscode": {
     "languageId": "raw"
    }
   },
   "source": [
    "---\n",
    "layout: post\n",
    "title: Sprint 4 - CSA Mini-Project Integration \n",
    "description:  Software Integration and Lesson Prep for College Board's FRQs and more.\n",
    "type: issues \n",
    "courses: { csa: {week: 13} }\n",
    "comments: true\n",
    "permalink: /csa/sprint4/objectives\n",
    "---"
   ]
  },
  {
   "cell_type": "markdown",
   "metadata": {},
   "source": [
    "## Sprint Objects\n",
    "\n",
    "1. **Integrate to portfolio_2025**.  Pure integration should only be a portion of your teams work as there are coding adjustments that come with integration.  Integration is significantly important to Teacher and must be coordinated according to Teachers needs.  There will only be a few people with rights to to pull code into portfolio_2025 and sprint_2025.   This work will require coordination accross periods as a result of people shifting in trimester 2.\n",
    "\n",
    "2. **Teaching Elements**.  Lesson planning ideas for Sprint 5 presentation. We need teaching for Unit 10, the four FRQ types, and depth in Classes, Polymorphism, sorting/collectables, etc. You should look through FRQs and FRQ types (Methods and Control Structures, Classes, Arrays and ArrayLists, 2D arrays).  Students should solve some of these FRQs and think about how they would use tools created for portfolio_2025.  Ideastion is built on doing and looking at former ideas:\n",
    "\n",
    "- [P1 Schedule](https://docs.google.com/spreadsheets/d/1RSF19Pe3IlIx-SMPHd70u2nh5JflOSM_PKfvZ1kLOh8/edit?gid=0#gid=0), [P3 Schedule](https://docs.google.com/spreadsheets/d/1_FUs4MR1VKLR5LWvpgoxzUdrY874Z0JLK1HqtbfNM9o/edit?gid=0#gid=0)\n",
    "- [Thymeleaf MVC labs menu](https://thymeleaf.nighthawkcodingsociety.com/mvc/fibonacci)\n",
    "- [Java Hacks folder](https://github.com/nighthawkcoders/spring_2025/tree/master/src/main/java/com/nighthawk/spring_portfolio/hacks)\n",
    "- [Jinja 2D project](https://jinja.nighthawkcodingsociety.com/starter/rgb/)\n",
    "- [Former lessons](https://nighthawkcoders.github.io/teacher_portfolio/navigation/csa)\n"
   ]
  },
  {
   "cell_type": "markdown",
   "metadata": {},
   "source": [
    "## Integration Planning\n",
    "\n",
    "A priority will be placed in planning for this Sprint!  You need approval from Teacher on plans.\n",
    "\n",
    "1. **Individual Issues**:\n",
    "   - It is required to build an issue and/or blog that describes your personal journey in integration.  You should have some sort of burn down and capture of accomplisments.  It is best to go through checklists, at least weekly. Use these as guidelines and adapt as required.\n",
    "\n",
    "2. **Team Issue(s)**:\n",
    "   - To collaborate effectively, there should be issue(s) assigned to you from the team on Kanban Board.\n",
    "   - These issues should show progression from ideation, development, integration (pull request), and how you validated tests.\n"
   ]
  }
 ],
 "metadata": {
  "language_info": {
   "name": "python"
  }
 },
 "nbformat": 4,
 "nbformat_minor": 2
}
