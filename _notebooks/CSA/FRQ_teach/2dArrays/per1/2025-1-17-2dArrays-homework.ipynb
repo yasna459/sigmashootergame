{
 "cells": [
  {
   "cell_type": "markdown",
   "metadata": {},
   "source": [
    "---\n",
    "layout: post\n",
    "comments: true\n",
    "title: 2D Arrays - Homework\n",
    "categories: [AP CSA]\n",
    "courses: { csa: {week: 17} }\n",
    "menu: nav/FRQ_teach/p1-2darrays.html\n",
    "permalink: csa/p1-frq-2darrays/homework\n",
    "---"
   ]
  },
  {
   "cell_type": "markdown",
   "metadata": {},
   "source": [
    "# Homework\n",
    "\n",
    "### For homework, complete **problem 4** on the 2021 AP CSA Free Repsonse. A link is provided below. Submit to utterances on this page :)\n",
    "\n",
    "[AP Central 2021 Computer Science A FRQ](https://apcentral.collegeboard.org/media/pdf/ap21-frq-computer-science-a.pdf)"
   ]
  }
 ],
 "metadata": {
  "language_info": {
   "name": "python"
  }
 },
 "nbformat": 4,
 "nbformat_minor": 2
}
