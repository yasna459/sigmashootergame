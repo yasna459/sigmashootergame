{
 "cells": [
  {
   "cell_type": "markdown",
   "metadata": {},
   "source": [
    "---\n",
    "layout: post\n",
    "comments: true\n",
    "title: 2D Arrays - FRQ Walkthrough\n",
    "categories: [AP CSA]\n",
    "menu: nav/FRQ_teach/p1-2darrays.html\n",
    "permalink: /csa/p1-frq-2darrays/walkthrough\n",
    "courses: { csa: {week: 17} }\n",
    "---"
   ]
  },
  {
   "cell_type": "markdown",
   "metadata": {},
   "source": [
    "# Walkthrough 2024 FRQ #4\n",
    "\n",
    "## Take 3 mins to think about how to solve this (answer in pseudocode)\n",
    "\n",
    "## Part A:\n",
    "\n",
    "### Section 1:"
   ]
  },
  {
   "cell_type": "code",
   "execution_count": null,
   "metadata": {
    "vscode": {
     "languageId": "java"
    }
   },
   "outputs": [],
   "source": [
    "public Location getNextLoc(row, col)\n",
    "{\n",
    "    if (row = grid.length - 1)\n",
    "{\n"
   ]
  },
  {
   "cell_type": "markdown",
   "metadata": {},
   "source": [
    "### SECTION 2:"
   ]
  },
  {
   "cell_type": "code",
   "execution_count": null,
   "metadata": {
    "vscode": {
     "languageId": "java"
    }
   },
   "outputs": [],
   "source": [
    "else if (grid(row + 1)(col) < grid(row)(col + 1)) // Should be square brackets [ ] for row/columns\n",
    "{ \n",
    "return new Location(row + 1, col); \n",
    "} "
   ]
  },
  {
   "cell_type": "markdown",
   "metadata": {},
   "source": [
    "### LOTS OF ERRORS FIND THEM:"
   ]
  },
  {
   "cell_type": "code",
   "execution_count": null,
   "metadata": {
    "vscode": {
     "languageId": "java"
    }
   },
   "outputs": [],
   "source": [
    "public Location getNextLoc(int row, int col)\n",
    "{\n",
    "    int rows = 0;\n",
    "    if (row == grid.length)\n",
    "    {\n",
    "        return new Location(row, col + 1);\n",
    "    }\n",
    "    else if (col == grid[0].length)\n",
    "    {\n",
    "        System.out.println(“Check last column”);\n",
    "        return new Location(row + 1, col);\n",
    "    }\n",
    "    else if (grid[row + 1][col] < grid[row][col + 1])\n",
    "    {\n",
    "        return new Location(row + 1, col);\n",
    "    }\n",
    "    else\n",
    "    {\n",
    "        return; \n",
    "    }\n",
    "}"
   ]
  },
  {
   "cell_type": "markdown",
   "metadata": {},
   "source": [
    "### CORRECT ANSWER:"
   ]
  },
  {
   "cell_type": "code",
   "execution_count": null,
   "metadata": {
    "vscode": {
     "languageId": "java"
    }
   },
   "outputs": [],
   "source": [
    "public Location getNextLoc(int row, int col)\n",
    "{\n",
    " if (row == grid.length – 1)\n",
    " {\n",
    " return new Location(row, col + 1);\n",
    " }\n",
    " else if (col == grid[0].length – 1)\n",
    " {\n",
    " return new Location(row + 1, col);\n",
    " }\n",
    " else if (grid[row + 1][col] < grid[row][col + 1])\n",
    " {\n",
    " return new Location(row + 1, col);\n",
    " }\n",
    " else\n",
    " {\n",
    " return new Location(row, col + 1);\n",
    " }\n",
    "}"
   ]
  },
  {
   "cell_type": "markdown",
   "metadata": {},
   "source": [
    "## Part B\n",
    "\n",
    "### SECTION 1:"
   ]
  },
  {
   "cell_type": "code",
   "execution_count": null,
   "metadata": {
    "vscode": {
     "languageId": "java"
    }
   },
   "outputs": [],
   "source": [
    "public int sumPath(int row, int col) { \n",
    "    int sum = 0; \n",
    "    while (row < grid.length || col < grid[0].length) { \n",
    "    } \n",
    "}"
   ]
  },
  {
   "cell_type": "markdown",
   "metadata": {},
   "source": [
    "### SECTION 2:"
   ]
  },
  {
   "cell_type": "code",
   "execution_count": null,
   "metadata": {
    "vscode": {
     "languageId": "java"
    }
   },
   "outputs": [],
   "source": [
    "public int sumPath(int row, int col) { \n",
    "    int sum = 0; \n",
    "    while (row < grid.length – 1 || col < grid[0].length - 1) { \n",
    "    sum += grid[row][col]; \n",
    "    location loc = getNextLoc(row, col); \n",
    "    row = loc.getRow(); \n",
    "    col = loc.getCol(); \n",
    "    } \n",
    "}"
   ]
  },
  {
   "cell_type": "markdown",
   "metadata": {},
   "source": [
    "### SECTION 3:"
   ]
  },
  {
   "cell_type": "code",
   "execution_count": null,
   "metadata": {
    "vscode": {
     "languageId": "java"
    }
   },
   "outputs": [],
   "source": [
    "public void sumPath(int row, int col) { \n",
    "    int sum = 0; \n",
    "    int maxSum = 0;\n",
    "    while (row < grid.length – 1 || col < grid[0].length - 1) { \n",
    "    sum += grid.get(row).get(col); \n",
    "    Location loc = getNextLoc(row, col); \n",
    "    row = loc.getRow(); \n",
    "    col = loc.getCol();\n",
    "    } \n",
    "    return sum + grid.get(row).get(col); \n",
    "}"
   ]
  },
  {
   "cell_type": "markdown",
   "metadata": {},
   "source": [
    "### CORRECT ANSWER:"
   ]
  },
  {
   "cell_type": "code",
   "execution_count": null,
   "metadata": {
    "vscode": {
     "languageId": "java"
    }
   },
   "outputs": [],
   "source": [
    "public int sumPath(int row, int col)\n",
    "{\n",
    " int sum = 0;\n",
    " while (row < grid.length – 1 || col < grid[0].length - 1)\n",
    " {\n",
    " sum += grid[row][col];\n",
    "\n",
    " Location loc = getNextLoc(row, col);\n",
    " row = loc.getRow();\n",
    " col = loc.getCol();\n",
    " }\n",
    " return sum + grid[row][col];\n",
    "}"
   ]
  }
 ],
 "metadata": {
  "language_info": {
   "name": "python"
  }
 },
 "nbformat": 4,
 "nbformat_minor": 2
}
