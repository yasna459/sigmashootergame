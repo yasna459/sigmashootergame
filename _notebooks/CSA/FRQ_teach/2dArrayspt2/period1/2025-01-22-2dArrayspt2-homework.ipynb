{
 "cells": [
  {
   "cell_type": "markdown",
   "metadata": {},
   "source": [
    "---\n",
    "layout: post\n",
    "comments: true\n",
    "title: 2D Arrays Pt 2 - Homework\n",
    "categories: [AP CSA]\n",
    "courses: { csa: {week: 18} }\n",
    "menu: nav/FRQ_teach/p1-2darrayspt2.html\n",
    "permalink: csa/p1-frq-2darrayspt2/homework\n",
    "---"
   ]
  },
  {
   "cell_type": "markdown",
   "metadata": {},
   "source": [
    "# Homework\n",
    "\n",
    "### **Problem 4** on the 2022 AP CSA Free Response. Link is below. Submit to utterances here.\n",
    "\n",
    "[AP Central 2022 Computer Science A FRQ](https://apcentral.collegeboard.org/media/pdf/ap22-frq-computer-science-a.pdf)"
   ]
  }
 ],
 "metadata": {
  "language_info": {
   "name": "python"
  }
 },
 "nbformat": 4,
 "nbformat_minor": 2
}
