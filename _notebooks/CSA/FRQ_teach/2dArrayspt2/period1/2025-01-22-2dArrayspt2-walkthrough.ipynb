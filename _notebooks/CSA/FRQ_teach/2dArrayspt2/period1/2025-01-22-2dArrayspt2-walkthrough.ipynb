{
 "cells": [
  {
   "cell_type": "markdown",
   "metadata": {},
   "source": [
    "---\n",
    "layout: post\n",
    "comments: true\n",
    "title: 2D Arrays Pt 2 - FRQ Walkthrough\n",
    "categories: [AP CSA]\n",
    "menu: nav/FRQ_teach/p1-2darrayspt2.html\n",
    "permalink: /csa/p1-frq-2darrayspt2/walkthrough\n",
    "courses: { csa: {week: 18} }\n",
    "---"
   ]
  },
  {
   "cell_type": "markdown",
   "metadata": {},
   "source": [
    "# Walkthrough 2023 FRQ #4\n",
    "\n",
    "## Part A:"
   ]
  },
  {
   "cell_type": "markdown",
   "metadata": {},
   "source": [
    "## Goal:\n",
    "- Move a piece of candy to the first row of a given column if possible.\n",
    "\n",
    "## Steps:\n",
    "- Check if the first row already has candy → If yes, return true.\n",
    "- Search for candy in the column starting from the second row.\n",
    "- If found, move it to row 0 and set the original position to null, then return true.\n",
    "- If no candy is found, return false.\n",
    "\n",
    "## The Code"
   ]
  },
  {
   "cell_type": "code",
   "execution_count": null,
   "metadata": {
    "vscode": {
     "languageId": "java"
    }
   },
   "outputs": [],
   "source": [
    "public class BoxOfCandy {\n",
    "    private Candy[][] box;\n",
    "\n",
    "    // Part A: Buggy version of moveCandyToFirstRow\n",
    "    public boolean moveCandyToFirstRow(int col) {\n",
    "        if (box[0][col] != null) { // Check if candy is already in the first row\n",
    "            return true;\n",
    "        }\n",
    "        \n",
    "        for (int row = 1; row <= box.length; row++) { // BUG: Should be '<', not '<='\n",
    "            if (box[row][col] != null) { // BUG: Can go out of bounds\n",
    "                box[0][col] = box[row][col]; // Move candy to the first row\n",
    "                box[row][col] = null; // Clear the original position\n",
    "                return true;\n",
    "            }\n",
    "        }\n",
    "        return false; // No candy found in the column\n",
    "    }\n",
    "\n",
    "    // Part A: Corrected version of moveCandyToFirstRow\n",
    "    public boolean moveCandyToFirstRow(int col) {\n",
    "        if (box[0][col] != null) { // Check if first row already has candy\n",
    "            return true;\n",
    "        }\n",
    "        \n",
    "        for (int row = 1; row < box.length; row++) { // Fixed '<=' to '<'\n",
    "            if (box[row][col] != null) { // Find the first candy in the column\n",
    "                box[0][col] = box[row][col]; // Move it to the top\n",
    "                box[row][col] = null; // Remove candy from the original spot\n",
    "                return true;\n",
    "            }\n",
    "        }\n",
    "        return false; // No candy found to move\n",
    "    }\n",
    "}"
   ]
  },
  {
   "cell_type": "markdown",
   "metadata": {},
   "source": [
    "## Bug Explanations\n",
    "- The loop condition row <= box.length causes it to go one row past the array bounds, which leads to an ArrayIndexOutOfBoundsException.\n",
    "- If the loop goes out of bounds, trying to access box[row][col] crashes the program.\n",
    "\n",
    "## Part B:\n",
    "\n",
    "## Goal:\n",
    "- Find and remove the first candy (bottom-up, left-to-right) with the given flavor.\n",
    "\n",
    "## Steps:\n",
    "- Start from the last row and go up.\n",
    "- Within each row, check columns from left to right.\n",
    "- If a candy with the given flavor is found, remove it (set to null) and return it.\n",
    "- If no matching candy is found, return null.\n",
    "\n",
    "## Code:"
   ]
  },
  {
   "cell_type": "code",
   "execution_count": null,
   "metadata": {
    "vscode": {
     "languageId": "java"
    }
   },
   "outputs": [],
   "source": [
    "public class BoxOfCandy {\n",
    "\n",
    "    // Part B: Buggy version of removeNextByFlavor\n",
    "    public Candy removeNextByFlavor(String flavor) {\n",
    "        for (int row = box.length - 2; row >= 0; row--) { // BUG: Skips the last row\n",
    "            for (int col = 0; col < box[row].length; col++) {\n",
    "                if (box[row][col].getFlavor().equals(flavor)) { // BUG: Might cause NullPointerException\n",
    "                    Candy removedCandy = box[row][col]; // Store the candy to return later\n",
    "                    box[row][col] = null; // Remove the candy\n",
    "                    return removedCandy; // Return the removed candy\n",
    "                }\n",
    "            }\n",
    "        }\n",
    "        return null; // No matching candy found\n",
    "    }\n",
    "\n",
    "    // Part B: Corrected version of removeNextByFlavor\n",
    "    public Candy removeNextByFlavor(String flavor) {\n",
    "        for (int row = box.length - 1; row >= 0; row--) { // Start searching from the last row\n",
    "            for (int col = 0; col < box[row].length; col++) { // Check each column from left to right\n",
    "                if (box[row][col] != null && box[row][col].getFlavor().equals(flavor)) { // Fixed NullPointerException\n",
    "                    Candy removedCandy = box[row][col]; // Store the candy to return later\n",
    "                    box[row][col] = null; // Remove candy from the box\n",
    "                    return removedCandy; // Return the removed candy\n",
    "                }\n",
    "            }\n",
    "        }\n",
    "        return null; // No candy with matching flavor found\n",
    "    }\n",
    "}"
   ]
  },
  {
   "cell_type": "markdown",
   "metadata": {},
   "source": [
    "## Bug Explanations\n",
    "- The loop starts from box.length - 2, which means it never checks the last row, potentially missing a candy that should be removed.\n",
    "- The code calls .getFlavor() without first checking if box[row][col] is null, which can cause an error if there's an empty spot in the grid.\n"
   ]
  }
 ],
 "metadata": {
  "language_info": {
   "name": "python"
  }
 },
 "nbformat": 4,
 "nbformat_minor": 2
}
