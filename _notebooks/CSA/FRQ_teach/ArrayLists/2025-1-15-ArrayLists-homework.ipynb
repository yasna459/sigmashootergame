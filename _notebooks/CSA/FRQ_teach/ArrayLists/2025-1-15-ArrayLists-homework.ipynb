{
 "cells": [
  {
   "cell_type": "markdown",
   "metadata": {},
   "source": [
    "---\n",
    "layout: post\n",
    "comments: true\n",
    "type: issues \n",
    "title: ArrayLists - Homework\n",
    "categories: [AP CSA]\n",
    "menu: nav/FRQ_teach/p1-arraylists.html\n",
    "permalink: /csa/p1-frq-arraylists/homework\n",
    "---"
   ]
  },
  {
   "cell_type": "markdown",
   "metadata": {},
   "source": [
    "# Homework\n",
    "\n",
    "### For homework, complete **problem 3** on the 2023 AP CSA Free Repsonse. A link is provided below. Submit to utterances on this page :)\n",
    "\n",
    "[AP Central 2023 Computer Science A FRQ](https://apcentral.collegeboard.org/media/pdf/ap23-frq-comp-sci-a.pdf)"
   ]
  }
 ],
 "metadata": {
  "language_info": {
   "name": "python"
  }
 },
 "nbformat": 4,
 "nbformat_minor": 2
}
