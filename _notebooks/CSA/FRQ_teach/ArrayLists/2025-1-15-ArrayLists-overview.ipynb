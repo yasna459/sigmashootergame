{
 "cells": [
  {
   "cell_type": "markdown",
   "metadata": {},
   "source": [
    "---\n",
    "layout: post\n",
    "toc: true\n",
    "title: ArrayLists - Overview\n",
    "categories: [AP CSA]\n",
    "menu: nav/FRQ_teach/p1-arraylists.html\n",
    "courses: { csa: {week: 17} }\n",
    "type: ccc\n",
    "permalink: /csa/p1-frq-arraylists/overview\n",
    "---"
   ]
  },
  {
   "cell_type": "markdown",
   "metadata": {},
   "source": [
    "# ArrayList Methods Cheat Sheet\n",
    "\n",
    "## 1. Creating an ArrayList\n",
    "ArrayList<\"Type\"> list = new ArrayList<\"Type\">();\n",
    "\n",
    "## 2. Common Methods\n",
    "\n",
    "### Add Elements\n",
    "list.add(value); → Appends a value to the end.  \n",
    "list.add(index, value); → Inserts value at a specific index.\n",
    "\n",
    "### Access Elements\n",
    "list.get(index); → Returns the element at the specified index.\n",
    "\n",
    "### Update Elements\n",
    "list.set(index, value); → Replaces the element at index with value.\n",
    "\n",
    "### Remove Elements\n",
    "list.remove(index); → Deletes element at index.  \n",
    "list.remove(value); → Deletes the first occurrence of value.\n",
    "\n",
    "### Size of the List\n",
    "list.size(); → Returns the number of elements.\n",
    "\n",
    "### Check for Elements\n",
    "list.contains(value); → Returns true if value is in the list.  \n",
    "list.indexOf(value); → Returns the index of the first occurrence of value, or -1 if not found."
   ]
  },
  {
   "cell_type": "markdown",
   "metadata": {},
   "source": [
    "# ArrayList Loops Cheat Sheet\n",
    "\n",
    "## 1. Traversing an ArrayList\n",
    "You can use **for loops** or **for-each loops** to iterate through an `ArrayList`."
   ]
  },
  {
   "cell_type": "code",
   "execution_count": null,
   "metadata": {
    "vscode": {
     "languageId": "java"
    }
   },
   "outputs": [],
   "source": [
    "// Basic for loop\n",
    "for (int i = 0; i < list.size(); i++) {\n",
    "    System.out.println(list.get(i)); // Access element at index i\n",
    "}"
   ]
  },
  {
   "cell_type": "markdown",
   "metadata": {},
   "source": [
    "## 2. Using a For-Each Loop\n",
    "Simplified syntax, no index access."
   ]
  },
  {
   "cell_type": "code",
   "execution_count": null,
   "metadata": {
    "vscode": {
     "languageId": "java"
    }
   },
   "outputs": [],
   "source": [
    "for (Type item : list) {\n",
    "    System.out.println(item); // Access each element directly\n",
    "}"
   ]
  },
  {
   "cell_type": "markdown",
   "metadata": {},
   "source": [
    "## 3. Modifying Elements\n",
    "Use a **for loop** if you need to update values."
   ]
  },
  {
   "cell_type": "code",
   "execution_count": null,
   "metadata": {
    "vscode": {
     "languageId": "java"
    }
   },
   "outputs": [],
   "source": [
    "for (int i = 0; i < list.size(); i++) {\n",
    "    list.set(i, list.get(i) + 1); // Example: Increment each element\n",
    "}"
   ]
  },
  {
   "cell_type": "markdown",
   "metadata": {},
   "source": [
    "## 4. Avoid ConcurrentModificationException\n",
    "Cannot modify `ArrayList` (add/remove elements) during a for-each loop. Use an **iterator** or a **for loop** for such operations."
   ]
  },
  {
   "cell_type": "code",
   "execution_count": null,
   "metadata": {
    "vscode": {
     "languageId": "java"
    }
   },
   "outputs": [],
   "source": [
    "// Correct usage with a for loop\n",
    "for (int i = 0; i < list.size(); i++) {\n",
    "    if (list.get(i) < 0) {\n",
    "        list.remove(i);\n",
    "        i--; // Adjust index after removal\n",
    "    }\n",
    "}"
   ]
  },
  {
   "cell_type": "markdown",
   "metadata": {},
   "source": [
    "## 5. Nested Loops with ArrayLists\n",
    "Use nested loops to compare or process multiple elements."
   ]
  },
  {
   "cell_type": "code",
   "execution_count": null,
   "metadata": {
    "vscode": {
     "languageId": "java"
    }
   },
   "outputs": [],
   "source": [
    "for (int i = 0; i < list.size(); i++) {\n",
    "    for (int j = i + 1; j < list.size(); j++) {\n",
    "        if (list.get(i).equals(list.get(j))) {\n",
    "            System.out.println(\"Duplicate: \" + list.get(i));\n",
    "        }\n",
    "    }\n",
    "}"
   ]
  }
 ],
 "metadata": {
  "kernelspec": {
   "display_name": "Java",
   "language": "java",
   "name": "java"
  },
  "language_info": {
   "codemirror_mode": "java",
   "file_extension": ".jshell",
   "mimetype": "text/x-java-source",
   "name": "Java",
   "pygments_lexer": "java",
   "version": "21.0.5+11-Ubuntu-1ubuntu124.04"
  }
 },
 "nbformat": 4,
 "nbformat_minor": 2
}
