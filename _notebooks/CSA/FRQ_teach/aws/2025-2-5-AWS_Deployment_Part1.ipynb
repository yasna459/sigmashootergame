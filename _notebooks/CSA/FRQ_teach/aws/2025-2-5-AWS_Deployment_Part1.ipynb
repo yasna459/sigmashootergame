{
 "cells": [
  {
   "cell_type": "markdown",
   "id": "d12361f8",
   "metadata": {
    "vscode": {
     "languageId": "plaintext"
    }
   },
   "source": [
    "---\n",
    "layout: post\n",
    "toc: true\n",
    "title: AWS Docker Deployment\n",
    "categories: [Cloud Computing, DevOps]\n",
    "menu: nav/CSA_Units/frqs/aws_per3.html\n",
    "courses: { cloud: {week: 11} }\n",
    "type: tutorial\n",
    "permalink: /devops/aws-docker-deployment/part1\n",
    "---\n"
   ]
  },
  {
   "cell_type": "markdown",
   "id": "fbeb42f7",
   "metadata": {},
   "source": [
    "# AWS Docker Deployment - Part 1\n",
    "## Introduction and Setting Up AWS EC2\n",
    "This notebook provides an overview of AWS EC2 deployment, including setting up instances, connecting to them, and configuring security settings."
   ]
  },
  {
   "cell_type": "markdown",
   "id": "60f5e223",
   "metadata": {},
   "source": [
    "## Understanding AWS EC2\n",
    "Amazon Elastic Compute Cloud (EC2) is a service that provides scalable computing resources in the cloud. It allows developers to deploy applications efficiently."
   ]
  },
  {
   "cell_type": "markdown",
   "id": "080f5935",
   "metadata": {},
   "source": [
    "### Benefits of AWS EC2\n",
    "- **Rapid Deployment**: Instances can be set up within minutes.\n",
    "- **Pay-as-you-go Pricing**: Costs are based on actual usage.\n",
    "- **Scalability**: Easily scale applications based on demand."
   ]
  },
  {
   "cell_type": "markdown",
   "id": "43eb22a2",
   "metadata": {},
   "source": [
    "## Accessing AWS EC2 Instances\n",
    "To access AWS EC2 instances, log into the [AWS Console](https://aws.amazon.com/console/). You will be prompted to enter your credentials.\n",
    "\n",
    "For this example, we use the NighthawkCodingSociety AWS organization.\n",
    "\n",
    "![AWS Console Login](https://rackets-assets.vercel.app/assets/deployment_lesson/Deployment_AWS_Page_1.png)"
   ]
  },
  {
   "cell_type": "markdown",
   "id": "9f252e80",
   "metadata": {},
   "source": [
    "### Selecting the AWS Region\n",
    "Make sure to change the default region to **US East (Ohio)** to ensure proper connectivity.\n",
    "\n",
    "![Select AWS Region](https://rackets-assets.vercel.app/assets/deployment_lesson/Deployment_AWS_Page_4.png)"
   ]
  },
  {
   "cell_type": "markdown",
   "id": "7e68fbb0",
   "metadata": {},
   "source": [
    "### Navigating to EC2 Dashboard\n",
    "Once logged in, navigate to the EC2 dashboard by searching for **EC2** in the AWS search bar.\n",
    "\n",
    "![EC2 Dashboard](https://rackets-assets.vercel.app/assets/deployment_lesson/Deployment_AWS_Page_5.png)"
   ]
  },
  {
   "cell_type": "markdown",
   "id": "da99e656",
   "metadata": {},
   "source": [
    "### Viewing and Launching Instances\n",
    "Click on **Instances** in the EC2 dashboard to view running instances. If launching a new instance, select **Launch Instance**, choose **Ubuntu 22.04 LTS**, and configure security settings.\n",
    "\n",
    "![AWS Instance Selection](https://rackets-assets.vercel.app/assets/deployment_lesson/Deployment_AWS_Page_7.png)"
   ]
  },
  {
   "cell_type": "markdown",
   "id": "a8115129",
   "metadata": {},
   "source": [
    "### Connecting to an Instance\n",
    "To connect to an instance, select it and click **Connect**. Use **EC2 Instance Connect** (default option) to access the server via terminal.\n",
    "\n",
    "![EC2 Instance Connect](https://rackets-assets.vercel.app/assets/deployment_lesson/Deployment_AWS_Page_8.png)\n",
    "\n",
    "Once connected, you will have access to the command line:\n",
    "\n",
    "![EC2 Terminal](https://rackets-assets.vercel.app/assets/deployment_lesson/Deployment_AWS_Page_9.png)"
   ]
  }
 ],
 "metadata": {
  "language_info": {
   "name": "python"
  }
 },
 "nbformat": 4,
 "nbformat_minor": 5
}
