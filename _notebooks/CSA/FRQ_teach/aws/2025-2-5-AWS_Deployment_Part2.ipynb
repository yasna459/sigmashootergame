{
 "cells": [
  {
   "cell_type": "markdown",
   "id": "8cfb1842",
   "metadata": {},
   "source": [
    "---\n",
    "layout: post\n",
    "toc: true\n",
    "title: AWS Docker Deployment\n",
    "categories: [Cloud Computing, DevOps]\n",
    "menu: nav/CSA_Units/frqs/aws_per3.html\n",
    "courses: { cloud: {week: 11} }\n",
    "type: tutorial\n",
    "permalink: /devops/aws-docker-deployment/part2\n",
    "---\n"
   ]
  },
  {
   "cell_type": "markdown",
   "id": "89b3acc1",
   "metadata": {},
   "source": [
    "# AWS Docker Deployment - Part 2\n",
    "## Configuring an AWS EC2 Instance for Deployment\n",
    "In this notebook, we will configure the AWS EC2 instance for hosting applications, including installing necessary packages and setting up Docker."
   ]
  },
  {
   "cell_type": "markdown",
   "id": "2eb3393f",
   "metadata": {},
   "source": [
    "## Installing Required Software\n",
    "Run the following commands to install Docker, Nginx, Git, and Certbot on the EC2 instance."
   ]
  },
  {
   "cell_type": "code",
   "execution_count": null,
   "id": "43e57e5a",
   "metadata": {},
   "outputs": [],
   "source": [
    "\n",
    "# Run these commands on your AWS EC2 instance\n",
    "!sudo apt-get update && sudo apt-get install -y docker docker-compose nginx git\n",
    "!sudo snap install certbot --classic\n",
    "    "
   ]
  },
  {
   "cell_type": "markdown",
   "id": "3bc2ad4e",
   "metadata": {},
   "source": [
    "## Configuring the Firewall\n",
    "To allow SSH and web traffic, configure the firewall using UFW:"
   ]
  },
  {
   "cell_type": "code",
   "execution_count": null,
   "id": "40d605f7",
   "metadata": {},
   "outputs": [],
   "source": [
    "\n",
    "# Configure firewall settings\n",
    "!sudo ufw allow OpenSSH\n",
    "!sudo ufw allow 'Nginx Full'\n",
    "!sudo ufw enable\n",
    "    "
   ]
  },
  {
   "cell_type": "markdown",
   "id": "0b16f031",
   "metadata": {},
   "source": [
    "## Testing the Server\n",
    "Once Nginx is installed, test if it is running correctly by executing:"
   ]
  },
  {
   "cell_type": "code",
   "execution_count": null,
   "id": "cce4ff74",
   "metadata": {},
   "outputs": [],
   "source": [
    "!curl localhost"
   ]
  },
  {
   "cell_type": "markdown",
   "id": "2505bee5",
   "metadata": {},
   "source": [
    "If the setup is successful, you should see an Nginx welcome page."
   ]
  }
 ],
 "metadata": {
  "language_info": {
   "name": "python"
  }
 },
 "nbformat": 4,
 "nbformat_minor": 5
}
