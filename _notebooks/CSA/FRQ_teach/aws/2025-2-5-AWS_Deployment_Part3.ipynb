{
 "cells": [
  {
   "cell_type": "markdown",
   "id": "f9d3a466",
   "metadata": {},
   "source": [
    "---\n",
    "layout: post\n",
    "toc: true\n",
    "title: AWS Docker Deployment\n",
    "categories: [Cloud Computing, DevOps]\n",
    "menu: nav/CSA_Units/frqs/aws_per3.html\n",
    "courses: { cloud: {week: 11} }\n",
    "type: tutorial\n",
    "permalink: /devops/aws-docker-deployment/part3\n",
    "---\n"
   ]
  },
  {
   "cell_type": "markdown",
   "id": "d5f2bb41",
   "metadata": {},
   "source": [
    "# AWS Docker Deployment - Part 3\n",
    "## Deploying Applications and Configuring Nginx\n",
    "This notebook focuses on deploying web applications using Docker and configuring Nginx as a reverse proxy."
   ]
  },
  {
   "cell_type": "markdown",
   "id": "603fa5b1",
   "metadata": {},
   "source": [
    "## Deploying a Web Application with Docker\n",
    "Clone the project repository and deploy it using Docker Compose."
   ]
  },
  {
   "cell_type": "code",
   "execution_count": null,
   "id": "705039f3",
   "metadata": {},
   "outputs": [],
   "source": [
    "\n",
    "# Clone and deploy a web application\n",
    "!cd /deployments && git clone https://github.com/example/mybackend.git\n",
    "!cd /deployments/mybackend && docker-compose up -d --build\n",
    "    "
   ]
  },
  {
   "cell_type": "markdown",
   "id": "05c0c0ae",
   "metadata": {},
   "source": [
    "## Configuring Nginx as a Reverse Proxy\n",
    "Edit the Nginx configuration file to link the application to a domain name."
   ]
  },
  {
   "cell_type": "code",
   "execution_count": null,
   "id": "1099d4d4",
   "metadata": {},
   "outputs": [],
   "source": [
    "\n",
    "# Navigate to Nginx configuration directory\n",
    "!cd /etc/nginx/sites-available && sudo touch myproject\n",
    "\n",
    "# Open the configuration file and add the following:\n",
    "!echo 'server {\n",
    "    listen 80;\n",
    "    server_name example.stu.nighthawkcodingsociety.com;\n",
    "    location / {\n",
    "        proxy_pass http://localhost:8000;\n",
    "    }\n",
    "}' | sudo tee /etc/nginx/sites-available/myproject\n",
    "    "
   ]
  },
  {
   "cell_type": "markdown",
   "id": "1e475090",
   "metadata": {},
   "source": [
    "After editing the configuration file, activate it with:"
   ]
  },
  {
   "cell_type": "code",
   "execution_count": null,
   "id": "3d68ff3f",
   "metadata": {},
   "outputs": [],
   "source": [
    "\n",
    "# Enable the configuration and restart Nginx\n",
    "!sudo ln -s /etc/nginx/sites-available/myproject /etc/nginx/sites-enabled/\n",
    "!sudo nginx -t  # Test configuration\n",
    "!sudo systemctl restart nginx\n",
    "    "
   ]
  },
  {
   "cell_type": "markdown",
   "id": "9fd1ed5c",
   "metadata": {},
   "source": [
    "## Securing the Website with Certbot\n",
    "Use Certbot to generate an SSL certificate and enable HTTPS."
   ]
  },
  {
   "cell_type": "code",
   "execution_count": null,
   "id": "f54262b3",
   "metadata": {},
   "outputs": [],
   "source": [
    "!sudo certbot --nginx"
   ]
  },
  {
   "cell_type": "markdown",
   "id": "7f755579",
   "metadata": {},
   "source": [
    "If the certificate is successfully installed, your site will be accessible over HTTPS."
   ]
  }
 ],
 "metadata": {
  "language_info": {
   "name": "python"
  }
 },
 "nbformat": 4,
 "nbformat_minor": 5
}
