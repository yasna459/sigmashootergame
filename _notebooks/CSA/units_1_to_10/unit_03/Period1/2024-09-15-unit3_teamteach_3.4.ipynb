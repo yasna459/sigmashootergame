{
 "cells": [
  {
   "cell_type": "raw",
   "metadata": {
    "vscode": {
     "languageId": "raw"
    }
   },
   "source": [
    "---\n",
    "layout: post\n",
    "title: Unit 3 Team Teach - 3.4\n",
    "description: Unit 3 Team Teach\n",
    "comments: true\n",
    "menu: nav/CSA_Units/csa_unit3_p1.html\n",
    "permalink: /csa/unit3-p1/unit3-4\n",
    "author: Alisha Hussain, Anika Bhatnagar, Kayden Le, Sharon Kodali\n",
    "---"
   ]
  },
  {
   "cell_type": "markdown",
   "metadata": {},
   "source": [
    "# 3.4 Else If Statements \n",
    "Else If Statements: Used when you have multiple conditions that need to be checked sequentially.\n",
    "\n",
    "Flow of Execution: Each condition is evaluated in the order written. The first true condition's code runs, and the rest are skipped.\n",
    "\n",
    "Structure:\n",
    "\n",
    "- Start with a single if statement.\n",
    "- Follow with as many else if statements as needed.\n",
    "- Optionally end with one else to handle any remaining cases.\n",
    "Key Concept: The order of conditions matters. More specific conditions should come before broader ones to ensure accurate results.\n"
   ]
  },
  {
   "cell_type": "code",
   "execution_count": 17,
   "metadata": {},
   "outputs": [
    {
     "name": "stdout",
     "output_type": "stream",
     "text": [
      "Current age: 17\n",
      "You are old enough for a license to drive.\n"
     ]
    }
   ],
   "source": [
    "int myAge = 17; // adjust the age too see the difference in what it prints out\n",
    "System.out.println(\"Current age: \" + myAge);\n",
    "if (myAge >= 18) \n",
    "{\n",
    "    System.out.println(\"You can registar to vote.\");\n",
    "    System.out.println(\"You are old enough for a license to drive.\");\n",
    "}\n",
    "else if (myAge >= 16) {\n",
    "    System.out.println(\"You are old enough for a license to drive.\");\n",
    "} \n",
    "else if (myAge >= 15) {\n",
    "    System.out.println(\"You can learn to drive a car.\");\n",
    "}\n",
    "else if (myAge >= 14) {\n",
    "    System.out.println(\"You are 14\");\n",
    "}"
   ]
  },
  {
   "cell_type": "markdown",
   "metadata": {},
   "source": [
    "## Raise your hand: \n",
    "1. If I was 19 what would it print out?\n",
    "2. If I was 13 what would it print out?"
   ]
  },
  {
   "cell_type": "markdown",
   "metadata": {},
   "source": [
    "## Popcorn Hack \n",
    "Add more statements to make the code print out an \"F\" and \"C\""
   ]
  },
  {
   "cell_type": "code",
   "execution_count": 16,
   "metadata": {},
   "outputs": [],
   "source": [
    "public class gradeEvaluator \n",
    "{\n",
    "    public static void main(String[] args) \n",
    "        {\n",
    "        double myAverage = 90;\n",
    "        System.out.println(\"Current average: \" + myAverage);\n",
    "        if (myAverage >= 90)\n",
    "        {\n",
    "            System.out.println(\"You have \\\"A\\\" average.\");\n",
    "        }\n",
    "        \n",
    "        else if (myAverage >= 80)\n",
    "        { \n",
    "            System.out.println(\"You have an \\\"B\\\" average.\");\n",
    "        }\n",
    "        //add more letter grade options as needed\n",
    "    }\n",
    "}\n",
    "        "
   ]
  }
 ],
 "metadata": {
  "kernelspec": {
   "display_name": "Java",
   "language": "java",
   "name": "java"
  },
  "language_info": {
   "codemirror_mode": "java",
   "file_extension": ".jshell",
   "mimetype": "text/x-java-source",
   "name": "java",
   "pygments_lexer": "java",
   "version": "17.0.12+0"
  }
 },
 "nbformat": 4,
 "nbformat_minor": 2
}
