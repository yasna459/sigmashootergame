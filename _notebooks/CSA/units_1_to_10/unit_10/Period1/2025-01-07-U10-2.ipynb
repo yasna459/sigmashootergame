{
 "cells": [
  {
   "cell_type": "markdown",
   "metadata": {},
   "source": [
    "---\n",
    "layout: post\n",
    "title: 10.2 Recursion\n",
    "categories: [AP CSA]\n",
    "menu: nav/recursion.html\n",
    "permalink: /recursion/part2\n",
    "toc: false\n",
    "comments: true\n",
    "---"
   ]
  },
  {
   "cell_type": "markdown",
   "metadata": {},
   "source": [
    "#### 10.2 - Recursive Binary Search"
   ]
  },
  {
   "cell_type": "markdown",
   "metadata": {},
   "source": [
    "What is a binary search?\n",
    "- highly efficient algorithm used to find a specific target value within a sorted array by repeatedly dividing the search space in half\n",
    "- it eliminates half of the possible locations with each comparison until the target is found or the search space is exhausted"
   ]
  },
  {
   "cell_type": "code",
   "execution_count": null,
   "metadata": {
    "vscode": {
     "languageId": "java"
    }
   },
   "outputs": [],
   "source": [
    "target = 24\n",
    "int[] intArray = {0, 2, 4, 6, 8, 10, 12, 14, 16, 18, 20, 22, 24, 26, 28, 30, 32, 34, 36, 38, 40};"
   ]
  },
  {
   "cell_type": "markdown",
   "metadata": {},
   "source": [
    "How many iterations do you need to find the target using **linear search?**"
   ]
  },
  {
   "cell_type": "markdown",
   "metadata": {},
   "source": [
    "How many calls will be needed to find the target using **binary search?**\n",
    "(we'll come back to this)"
   ]
  },
  {
   "cell_type": "markdown",
   "metadata": {},
   "source": [
    "![Screenshot 2025-01-05 at 10 10 54 PM](https://github.com/user-attachments/assets/249d3d94-2a05-4b06-bd08-e682120fcd6c)"
   ]
  },
  {
   "cell_type": "markdown",
   "metadata": {},
   "source": [
    "We know how to find the target **iteratively...**\n",
    "- first we pass an array, high & low position (sort of like boundaries for our search), and the target value\n",
    "- as long as our low position is less than or equal to high position, we can find the middle\n",
    "- whatever the middle is, we compare it to the target, and adjust our boundaries based off of that comparison\n",
    "- if the middle value is less than the target, we adjust the low position up\n",
    "- if the middle value is greater than the target, we adjust the high positiion down\n",
    "- if the middle value is the target, we return it!"
   ]
  },
  {
   "cell_type": "markdown",
   "metadata": {},
   "source": [
    "But how do we find it **recursively?** (Questions below)"
   ]
  },
  {
   "cell_type": "markdown",
   "metadata": {},
   "source": [
    "![Screenshot 2025-01-05 at 10 16 30 PM](https://github.com/user-attachments/assets/85116427-6c14-4f18-931a-9a05906f5b54)"
   ]
  },
  {
   "cell_type": "markdown",
   "metadata": {},
   "source": [
    "![Screenshot 2025-01-05 at 10 17 48 PM](https://github.com/user-attachments/assets/b2305755-75ac-43cd-942f-5077312d52bd)"
   ]
  },
  {
   "cell_type": "markdown",
   "metadata": {},
   "source": [
    "Back to our question, how many recursive calls would it take to find the target? Why?\n",
    "int[] intArray = {0, 2, 4, 6, 8, 10, 12, 14, 16, 18, 20, 22, 24, 26, 28, 30, 32, 34, 36, 38, 40};\n",
    "\n",
    "- 3\n",
    "- 2\n",
    "- 4\n",
    "- 1\n"
   ]
  },
  {
   "cell_type": "markdown",
   "metadata": {},
   "source": [
    "**Merge Sort:**\n",
    "Merge Sort is a more advanced algorithm. It uses a strategy called divide-and-conquer. That means it breaks a big problem into smaller problems, solves those, and then combines the results. Think about sorting a messy pile of papers: you might divide it into smaller piles, organize each one, and then combine them back in order.\n",
    "\n",
    "How does it work?\n",
    "![image](https://github.com/user-attachments/assets/8d89e251-1039-41a6-b57f-282864f42214)\n",
    "\n",
    "\n",
    "A simple way to think about this is with the mantra \"left, right, merge... left, right merge... left, right, merge...\""
   ]
  },
  {
   "cell_type": "markdown",
   "metadata": {},
   "source": [
    "Time for a popcorn hack!"
   ]
  },
  {
   "cell_type": "markdown",
   "metadata": {},
   "source": [
    "![image](https://github.com/user-attachments/assets/7a9e1d01-054e-45d8-9338-8481f399771d)\n"
   ]
  },
  {
   "cell_type": "markdown",
   "metadata": {},
   "source": [
    "Now let's see how this code works:"
   ]
  },
  {
   "cell_type": "code",
   "execution_count": 1,
   "metadata": {
    "vscode": {
     "languageId": "java"
    }
   },
   "outputs": [
    {
     "name": "stdout",
     "output_type": "stream",
     "text": [
      "Original array:\n",
      "38 27 43 3 9 82 10 \n",
      "\n",
      "Sorted array:\n",
      "3 9 10 27 38 43 82 \n"
     ]
    }
   ],
   "source": [
    "public class MergeSort {\n",
    "\n",
    "    // Main method to test merge sort\n",
    "    public static void main(String[] args) {\n",
    "        int[] arr = {38, 27, 43, 3, 9, 82, 10};\n",
    "        System.out.println(\"Original array:\");\n",
    "        printArray(arr);\n",
    "\n",
    "        mergeSort(arr, 0, arr.length - 1);\n",
    "\n",
    "        System.out.println(\"\\nSorted array:\");\n",
    "        printArray(arr);\n",
    "    }\n",
    "\n",
    "    // this is the method to divide and sort the array\n",
    "    public static void mergeSort(int[] arr, int left, int right) {\n",
    "        if (left < right) {\n",
    "            int mid = left + (right - left) / 2;\n",
    "\n",
    "            //  sort the left half\n",
    "            mergeSort(arr, left, mid);\n",
    "\n",
    "            //  sort the right half\n",
    "            mergeSort(arr, mid + 1, right);\n",
    "            //notice that we are calling the function inside itself, this is recursive sorting\n",
    "            // Merge the sorted halves\n",
    "            merge(arr, left, mid, right);\n",
    "        }\n",
    "    }\n",
    "\n",
    "    // this is the method to merge two sorted subarrays\n",
    "    public static void merge(int[] arr, int left, int mid, int right) {\n",
    "        // Sizes of the two subarrays\n",
    "        int n1 = mid - left + 1;\n",
    "        int n2 = right - mid;\n",
    "\n",
    "        // We are creating the temporary arrays\n",
    "        int[] leftArray = new int[n1];\n",
    "        int[] rightArray = new int[n2];\n",
    "\n",
    "        // Here, we are copying data to temporary arrays\n",
    "        for (int i = 0; i < n1; i++) {\n",
    "            leftArray[i] = arr[left + i];\n",
    "        }\n",
    "        for (int j = 0; j < n2; j++) {\n",
    "            rightArray[j] = arr[mid + 1 + j];\n",
    "        }\n",
    "\n",
    "        // Merge the temporary arrays back into the original array\n",
    "        int i = 0, j = 0;\n",
    "        int k = left;\n",
    "        while (i < n1 && j < n2) {\n",
    "            if (leftArray[i] <= rightArray[j]) {\n",
    "                arr[k] = leftArray[i];\n",
    "                i++;\n",
    "            } else {\n",
    "                arr[k] = rightArray[j];\n",
    "                j++;\n",
    "            }\n",
    "            k++;\n",
    "        }\n",
    "\n",
    "        // Copy remaining elements of leftArray, if there are any\n",
    "        while (i < n1) {\n",
    "            arr[k] = leftArray[i];\n",
    "            i++;\n",
    "            k++;\n",
    "        }\n",
    "\n",
    "        // Copy remaining elements of rightArray, if there are  any\n",
    "        while (j < n2) {\n",
    "            arr[k] = rightArray[j];\n",
    "            j++;\n",
    "            k++;\n",
    "        }\n",
    "    }\n",
    "\n",
    "    // Utility method to print the array\n",
    "    public static void printArray(int[] arr) {\n",
    "        for (int value : arr) {\n",
    "            System.out.print(value + \" \");\n",
    "        }\n",
    "        System.out.println();\n",
    "    }\n",
    "}\n",
    "MergeSort.main(null);"
   ]
  }
 ],
 "metadata": {
  "kernelspec": {
   "display_name": "Java",
   "language": "java",
   "name": "java"
  },
  "language_info": {
   "codemirror_mode": "java",
   "file_extension": ".jshell",
   "mimetype": "text/x-java-source",
   "name": "Java",
   "pygments_lexer": "java",
   "version": "17.0.13+11-Ubuntu-2ubuntu124.04"
  }
 },
 "nbformat": 4,
 "nbformat_minor": 4
}
