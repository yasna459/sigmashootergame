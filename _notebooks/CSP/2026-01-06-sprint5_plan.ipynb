{
 "cells": [
  {
   "cell_type": "raw",
   "metadata": {
    "vscode": {
     "languageId": "raw"
    }
   },
   "source": [
    "---\n",
    "layout: post\n",
    "title: Sprint 5 - CSP Data, Debugging, Deployment, and Testing \n",
    "description:  Building a Production Product for College Board CPT \n",
    "type: issues \n",
    "courses: { csp: {week: 17} }\n",
    "comments: true\n",
    "permalink: /csp/sprint5/objectives\n",
    "---"
   ]
  },
  {
   "cell_type": "markdown",
   "metadata": {},
   "source": [
    "## Sprint Objectives\n",
    "\n",
    "1. **Team Project**\n",
    "\n",
    "   - **Objective for Sprint 5**\n",
    "     - **Feature Ready Milestone**: Iterate on a project so that it is feature-ready for Team and Individual CPT requirements.\n",
    "     - **Database Functionality**: Ensure that data used in the system is persistent and dynamic.\n",
    "     - **Deployment**: Ensure backend and database are public and available for group updates.\n",
    "\n",
    "   - **Issues/Project Management**\n",
    "      - **Team Issue**: Define the project purpose and key features. Form an issue to serve as a burndown list. The Team Issue will be used in Team Live reviews and retrospectives.\n",
    "      - **Individual Issue**: Describe feature purpose and progress toward CPT requirements. The Individual Issue is a burndown list and will be used in Group and Individual reviews.\n",
    "      - **Kanban Board**: Contain Team or Individual burndown items. Issues are used to grow the project in iterative increments. One or more issues are used to support the burndown of Team and Individual Issues.\n",
    "\n",
    "   - **Team Organization**\n",
    "     - **Team Size**: As close to 6 people as possible.\n",
    "     - **Leadership**: One Scrum Master, and one assistant/backup Scrum Master.\n",
    "     - **Integrations**: Two people with rights to pull code into the repository.\n",
    "     - **Deployment Admins**: Two people with rights to deploy.\n",
    "     - **Visual Design**: One person to maintain front-end design documentation.\n",
    "     - **Data Modeler**: One person to maintain backend data definition documentation.\n",
    "     - **Coders**: Everyone will have frontend and backend coding responsibilities for their personal end-to-end feature.\n",
    "     - **Multiple Roles/Hats**: You will likely have multiple jobs and coding responsibilities.\n",
    "\n",
    "   - **Classroom Reviews**\n",
    "     - **Groups/Individual**: Reviews will always be 3 people.\n",
    "       - **Individual Issue and Kanban Issue(s)**: Show leveraged and distinct features. Highly focused on code and data updates.\n",
    "       - **Expectation**: This review will clearly show distinct coding on frontend and backend features. Burndown of CPT features highlights CPT questionnaire/writeup.\n",
    "\n",
    "     - **Team/Table**: Reviews will be 6 people.\n",
    "       - **Team Issue and Kanban**: Show coordinated progress on Team Goals. Highly focused on demo and functionality.\n",
    "       - **Expectation**: Requires coordination and design.\n",
    "     - There will be frequent checkpoints: team, individual, or both.\n",
    "\n",
    "2. **Extending Flocker Social Media Project**:\n",
    "   - Your project should have designs for signup, login, and your social media features and actions.  These feature were provided as starters.\n",
    "   - Additional areas of consideration:\n",
    "     - Python/Jinja MVC [admin menu](https://flask2025.nighthawkcodingsociety.com/login?next=/users/table2)\n",
    "     - Javascript Frontend [home page](https://nighthawkcoders.github.io/flocker_frontend/) a personalized redesign of flocker and its navigation.\n",
    "     - Database.  Extending provided database to capture information from key individual features in the web site.\n",
    "\n",
    "3. **Teaching Elements**:\n",
    "   - There are distinct elements on Big Ideas 1, 2, 3, 4 in your project. Consider how you will capture these elements in your personal blog to aid in your review and study.\n",
    "   - We will have an MCQ test in this Sprint to help support your personal blog build-up and College Board MCQ preparation."
   ]
  },
  {
   "cell_type": "markdown",
   "metadata": {},
   "source": [
    "## Course Priorities related to College Board Create Performance Task (CPT)\n",
    "\n",
    "### Big Idea 1.4 Debugging Code and Fixing Errors\n",
    "\n",
    "Students will learn to debug and test their project from frontend to backend.\n",
    "\n",
    "- **Backend Debugging:**\n",
    "  - Use Postman to trace and debug backend code.\n",
    "- **Frontend Debugging:**\n",
    "  - Utilize browser Inspect tools to trace and debug frontend code.\n",
    "- **End-to-End Tracing:**\n",
    "  - Ensure seamless communication and data flow between frontend and backend.\n",
    "- **Testing:**\n",
    "  - Build and execute tests using Postman.\n",
    "  - Add test data to systems to validate functionality and performance."
   ]
  },
  {
   "cell_type": "markdown",
   "metadata": {
    "vscode": {
     "languageId": "raw"
    }
   },
   "source": [
    "### Big Idea 2 Data\n",
    "\n",
    "Students will manage and store data into a database.\n",
    "\n",
    "- **Database Management with SQLite:**\n",
    "  - Set up and manage SQLite databases to store user data, posts, and images.\n",
    "  - Design database schemas to efficiently handle social media data.\n",
    "- **Image Upload and Storage:**\n",
    "  - Implement functionality to upload and store images in the database or file system.\n",
    "  - Ensure images are properly linked to user posts and profiles.\n",
    "- **Data Security and Privacy:**\n",
    "  - Implement security measures to protect user data and images.\n",
    "  - Ensure compliance with privacy regulations and best practices.\n",
    "- **Data Retrieval and Display:**\n",
    "  - Develop efficient queries to retrieve and display data on the frontend.\n",
    "  - Optimize database performance for fast data access.\n",
    "- **Data Backup and Recovery:**\n",
    "  - Implement backup strategies to prevent data loss.\n",
    "  - Develop recovery procedures to restore data in case of failure."
   ]
  },
  {
   "cell_type": "markdown",
   "metadata": {
    "vscode": {
     "languageId": "raw"
    }
   },
   "source": [
    "### Big Idea 4 Internet\n",
    "\n",
    "Students will deploy their Python/Flack project. Additionally, they will learn internet concepts as described.\n",
    " \n",
    "- **Deployment Strategies:**\n",
    "  - Deploy the application on platforms like Heroku, AWS\n",
    "  - Use continuous integration and continuous deployment (CI/CD) pipelines to automate deployment.\n",
    "- **Domain Name System (DNS):**\n",
    "  - Understand how DNS works and configure domain names for the deployed application.\n",
    "- **HTTP and RESTful APIs:**\n",
    "  - Use HTTP methods (GET, POST, PUT, DELETE) to interact with the backend.\n",
    "  - Design and implement RESTful APIs for communication between frontend and backend.\n",
    "- **Security and Authentication:**\n",
    "  - Implement authentication mechanisms (e.g., JWT) to secure the application.\n",
    "  - Use HTTPS to encrypt data transmitted between the client and server.\n",
    "- **Performance Optimization:**\n",
    "  - Optimize frontend performance by minimizing assets and using caching.\n",
    "  - Optimize backend performance by using efficient algorithms and database indexing.\n",
    "- **Monitoring and Logging:**\n",
    "  - Implement monitoring tools to track application performance and errors.\n",
    "  - Use logging to record application events and debug issues."
   ]
  }
 ],
 "metadata": {
  "language_info": {
   "name": "python"
  }
 },
 "nbformat": 4,
 "nbformat_minor": 2
}
