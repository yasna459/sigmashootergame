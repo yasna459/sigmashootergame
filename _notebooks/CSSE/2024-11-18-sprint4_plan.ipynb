{
 "cells": [
  {
   "cell_type": "raw",
   "metadata": {
    "vscode": {
     "languageId": "raw"
    }
   },
   "source": [
    "---\n",
    "layout: post\n",
    "title: Sprint 4 - CSSE Objectives \n",
    "description: Exploring the Platformer Game \n",
    "type: issues \n",
    "courses: { csse: {week: 13} }\n",
    "comments: true\n",
    "permalink: /csse/sprint4/objectives\n",
    "---"
   ]
  },
  {
   "cell_type": "markdown",
   "metadata": {},
   "source": [
    "### Platformer Game Coding\n",
    "\n",
    "As teams of 3 we will all be working on the same Platformer Game. We will be adding or extending levels in the game. \n",
    "\n",
    "- Each team will make a fork of [platformer4x](https://github.com/nighthawkcoders/platformer4x).\n",
    "\n",
    "- Each team of 3 will own, update, and customize a game level.\n",
    "\n",
    "- Each team will complete pull requests to platformer4x and present a review\n",
    "\n",
    "- Each team will change how the game ends.\n",
    "\n",
    "- Each team will prepare a final review.\n",
    "\n",
    "- Each individual will prepare final review on how they planned, coded, and prepared for live reviews during Sprint 4. They should have a page in personal blog that captures what they learned, studied, and changed in this sprint.  This includes process steps, style changes, coding, commits, and mistakes.  Try to highlight 3 to 5 things and be reflective."
   ]
  }
 ],
 "metadata": {
  "language_info": {
   "name": "python"
  }
 },
 "nbformat": 4,
 "nbformat_minor": 2
}
