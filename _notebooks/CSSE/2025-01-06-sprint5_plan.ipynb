{
 "cells": [
  {
   "cell_type": "raw",
   "metadata": {
    "vscode": {
     "languageId": "raw"
    }
   },
   "source": [
    "---\n",
    "layout: post\n",
    "title: Sprint 5 - CSSE Objectives \n",
    "description: Building a help system for the CSSE Platformer Game \n",
    "type: issues \n",
    "courses: { csse: {week: 17} }\n",
    "comments: true\n",
    "permalink: /csse/sprint5/objectives\n",
    "---"
   ]
  },
  {
   "cell_type": "markdown",
   "metadata": {},
   "source": [
    "## Platformer Game Search and Help System\n",
    "\n",
    "As teams of 3 across the class will all be working on the same Platformer Game. We will be adding or extending the Help system to use and develop the game.. \n",
    "\n",
    "- Each team will make a fork of [platformer4x](https://github.com/nighthawkcoders/platformer4x).\n",
    "\n",
    "- Each team of 3 will own, update, and customize a topic(s) within the help system.\n",
    "\n",
    "- Each team will complete pull requests to platformer4x and present a review.\n",
    "\n",
    "- Each team will include topics on how a portion of the game is designed and coded.\n",
    "\n",
    "- Each team will prepare ideas for extending that topic.\n",
    "\n",
    "- Each individual will prepare final review. Try to highlight 3 to 5 things and be reflective.\n",
    "\n",
    "- Team will share their accomplishments with entire class."
   ]
  },
  {
   "cell_type": "markdown",
   "metadata": {},
   "source": [
    "## Materials\n",
    "\n",
    "Materials have been provided for key topics.  These should be consider starters or guidelines.\n",
    "\n",
    "- Key Objectives\n",
    "  - Read the materials provided\n",
    "  - Learn your topic in the game.\n",
    "  - Build ideas on how to change the game.\n",
    "  - Add learnings and ideas to help system\n",
    "  - Think that you will be leaving a legacy of work to next Platformer coders, pay forward.\n",
    "\n",
    "- Future\n",
    "  - Building a help and idea system is a great Computer Science skills\n",
    "  - Think of your work as plan for Sprint 6 "
   ]
  },
  {
   "cell_type": "markdown",
   "metadata": {},
   "source": [
    "## Checklist Suggestions\n",
    "Here are suggested activities.  These should be considered minmal, but can be enhanced if they lack detail.\n",
    "\n",
    "- Scrum Master of Scrum Masters\n",
    "  - Start Issue of Team Assignments\n",
    "  - Starts Kanban Board using Issue from individuals\n",
    "  - Make sure we are not duplicating by doing reviews with each Scrum Master and Assistant Scrum Master\n",
    "  - Accept pull requests and ensure they match Team and Individual Assignments\n",
    "  - Pull in other Scrum Master to support integrations.\n",
    "- Scrum and Assistant Scrum Master\n",
    "  - Build an Outline of Topic and Help Materials using provided materials\n",
    "  - Discuss Ouline of Topic and of Help Materiasl with Team and with Scrum Master of Scrum Masters\n",
    "  - Start Individual Issue(s) for Team Members, be sure Issue(s) have burn down lists.\n",
    "  - Make sure your Issue(s) get on to the Kanban Board\n",
    "- Teams of 3\n",
    "  - Team meets and describes parts of game that will have help system, capture ideas in Team Issue.\n",
    "  - Break down parts of game into Individual Issue(s) for each Developer\n",
    "  - Each Developer build skeletal notebooks into platformer game, be sure to update front matter. \n",
    "  - Make sure skeletal notebooks get into game in 1st week of sprint\n",
    "  - Make second pass on notebooks to update content and future ideas for system.  Make this interesting including code fragments and runn code fragments in code cells.  Updating DOM and having help interactive is highly encouraged.\n",
    "  - Team makes pull request."
   ]
  }
 ],
 "metadata": {
  "language_info": {
   "name": "python"
  }
 },
 "nbformat": 4,
 "nbformat_minor": 2
}
