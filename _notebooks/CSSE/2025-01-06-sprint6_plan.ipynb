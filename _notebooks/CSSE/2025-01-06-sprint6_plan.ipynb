{
 "cells": [
  {
   "cell_type": "raw",
   "metadata": {
    "vscode": {
     "languageId": "raw"
    }
   },
   "source": [
    "---\n",
    "layout: post\n",
    "title: Sprint 6 - CSSE Objectives (Final) \n",
    "description: CSSE Platformer Game final project.  This includes help system, plans, code, testing, and N@tM.\n",
    "type: issues \n",
    "courses: { csse: {week: 19} }\n",
    "comments: true\n",
    "permalink: /csse/sprint6/objectives\n",
    "---"
   ]
  },
  {
   "cell_type": "markdown",
   "metadata": {},
   "source": [
    "## Final Project\n",
    "\n",
    "This Final Project needs to show that you have been introduced to Computer Science, JavaScript, and Object-Oriented Programming. This project prepares students to learn coding and explore future computer science and engineering courses. It demonstrates that the student has acquired some programming fundamentals.\n",
    "\n",
    "By building a game, the project uses a topic of personal and social relevance (gaming) to investigate the impacts of computing through exploring language basics.\n",
    "\n",
    "- **Software Engineering Practices**: Planning changes, checklists, burndowns, coding with comments, building help documentation, presentations\n",
    "- **Control Structures**: Iteration, conditions, nested conditions\n",
    "- **Data Types**: Numbers, strings, booleans, arrays, JSON objects\n",
    "- **Input/Output**: HTML5 input, validation, Document Object Model (DOM)\n",
    "- **Operators**: String operations, mathematical operations, boolean expressions \n",
    "- **Classes**: Writing classes, creating methods, instantiating objects, using objects, calling methods, parameters, return values, basic inheritance\n",
    "- **Software Development Lifecycle Practices**: Source control, forking, branching, building, testing and verification, pull requests, merging, deployment\n",
    "- **Retrospective Engineering Practices**: Demos, live reviews, revising plans\n",
    "\n",
    "### Mira Costa College\n",
    "\n",
    "The final project and course are intended to build up skills that qualify the student for college credit.\n",
    "\n",
    "Web Site for [CS111](https://catalog.miracosta.edu/disciplines/computerscience/#courseinventory).  Though, this course substitutes JavaScript for Java, which has been approved by advisory as substitute.\n",
    "\n",
    "For those that wish to pursue Computer Science this starts you on [Math and CS Pathway](https://surf.miracosta.edu/psc/ps/EMPLOYEE/SA/c/MCC_CUSTOM.MZ_ACAD_MAP_SS.GBL?MAP_ID=1167)\n"
   ]
  },
  {
   "cell_type": "markdown",
   "metadata": {},
   "source": [
    "## Schedule\n",
    "\n",
    "The Final Project will be 6 weeks in duration (Weeks 19 to 24 of the CSSE course). The Final Project substitutes for a final exam and will have strict requirements.\n",
    "\n",
    "## Project Planning Schedule\n",
    "\n",
    "These weeks are preparatory for the project. During these weeks, you will describe your project expertise and plans, including expected goals and stretch goals.\n",
    "\n",
    "**Week 17** - Help system that provides guidance to current and future engineers working on the game.\n",
    "\n",
    "**Week 18** - Help System reviews.\n",
    "- Planned changes to expertise topics that will impact others in the game.\n",
    "- Planned changes to team level(s).\n",
    "- Students start 12 hours of coding journal in their blog.\n",
    "- **Friday**: Teacher review of the Help System.\n",
    "\n",
    "## Project Development Schedule\n",
    "\n",
    "These weeks are focused on development. During development, you should have one milestone to integrate, continuing the iterative cycle of development.\n",
    "\n",
    "**Week 19** - Key Development Week. Commence on the hardest part of your project.\n",
    "- 4 hours of coding and testing with the team.\n",
    "- Commit and issue analytics and issue burndown are used to evaluate progress.\n",
    "\n",
    "**Week 20** - Checkpoint Week. Commits and burndown.\n",
    "- 2 hours of coding and testing with the team.\n",
    "- **Wednesday**: Teacher review of analytics.\n",
    "- 2 hours of testing, integration, and pull requests with Scrum Masters.\n",
    "\n",
    "**Week 21** - Integration 1 Week. 1st integration and retrospective.\n",
    "- 1 hour of retrospective planning.\n",
    "- **Wednesday**: Teacher demo of running code on Production.\n",
    "- 3 hours of coding.\n",
    "\n",
    "**Week 22** - Final/Feature Complete Code.\n",
    "- 2 hours of coding.\n",
    "- 2 hours of testing, integration, and pull requests with Scrum Masters.\n",
    "\n",
    "**District Recess**\n",
    "\n",
    "**Week 23** - N@tM\n",
    "- **Monday**: A demo to Teacher df running code in Production.\n",
    "- 2 hours preparing personal blog.\n",
    "- **Thursday**: N@tM 6pm\n",
    "- Students move their portion of game, level(s), to their personal blog.\n",
    "\n",
    "**Week 24** - Finals Week\n",
    "- Teacher completes Final Grade and College Articulation reviews."
   ]
  }
 ],
 "metadata": {
  "language_info": {
   "name": "python"
  }
 },
 "nbformat": 4,
 "nbformat_minor": 2
}
