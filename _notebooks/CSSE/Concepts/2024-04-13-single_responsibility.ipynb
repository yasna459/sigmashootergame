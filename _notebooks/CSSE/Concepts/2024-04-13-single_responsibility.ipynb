{
 "cells": [
  {
   "cell_type": "raw",
   "metadata": {
    "vscode": {
     "languageId": "raw"
    }
   },
   "source": [
    "---\n",
    "toc: true\n",
    "comments: true\n",
    "layout: post\n",
    "title: Single Responsibility Principle\n",
    "description: This post will introduce you to Single Responsibility Principle (SRP) and how to apply it in your code. \n",
    "courses: { csse: {week: 21} }\n",
    "type: ccc\n",
    "---"
   ]
  },
  {
   "cell_type": "markdown",
   "metadata": {
    "vscode": {
     "languageId": "raw"
    }
   },
   "source": [
    "## Designing with Single Responsibility Principle (SRP)\n",
    "The Single Responsibility Principle is a programming concept that states that a class or method should have only one reason to change. This means that a class or method should only have one job or responsibility. This principle is part of the SOLID principles of Object-Oriented Programming (OOP).\n",
    "\n",
    "- Class design.  SRP helps to keep the code more maintainable and understandable. When classes have more than one responsibility, they can become complex and can be harder to understand, maintain, and change. By ensuring that each class has only one responsibility, we can keep our code clean, organized, and easier to work with.\n",
    "\n",
    "- Method design.  In game development, it's crucial to keep code as simple and clear as possible using SRP. Games often involve complex systems interacting with each other, and having clear, single-purpose methods can make it easier to understand how these systems work together. It also makes it easier to isolate and fix bugs, as each method is responsible for one thing.\n",
    "\n",
    "- The importance of single purpose classes and methods in game development\n",
    "\n",
    "  - Easier debugging and testing. When each class and method has a single responsibility, it's easier to write tests for them and to debug them when things go wrong. You can focus on testing one specific functionality at a time, and if a test fails, you know exactly where to look for the problem.\n",
    "\n",
    "  - More readable and maintainable code. Code that follows the SRP is generally more readable and easier to maintain. Each class and method does one thing, so it's easier to understand what each part of the code is supposed to do. This makes it easier for other developers to understand your code, and it makes it easier for you to understand and update your code in the future."
   ]
  },
  {
   "cell_type": "markdown",
   "metadata": {},
   "source": [
    "## The role of SRP in game Design \n",
    "Code complexity without Single Responsibility Principle (SRP) can quickly become unreadable and changes can become daunting.  Code with SRP more clearly illustrates code flow and order of operations.\n",
    "\n",
    "In this example, we will follow OOP design and SRP principles by tracking the update process in the game.\n",
    "\n",
    "### GameEnv Update\n",
    "Here is an example of SRP design pattern showing gameObject.update() method that is called within the GameLoop, the GameEnv update() is called from the GameControl gameLoop(). \n",
    "\n",
    "This gameObject.update() method call, using SRP principle, is distinct from the gameObject.serialize() method and the gameObject.draw() method. Read the descriptions of the static update() method calls...\n",
    "\n",
    "- gameObject.update(). Updates to game object state(s).\n",
    "- gameObject.serialize(). Prepares game object updates for multiplayer sharing.\n",
    "- gameObject.draw(). Renders the game object on the screen, canvas element.\n",
    "\n",
    "```javascript\n",
    "static update() {\n",
    "    // Update game state, including all game objects\n",
    "    // if statement prevents game from updating upon player death\n",
    "    if (GameEnv.player === null || GameEnv.player.state.isDying === false) {\n",
    "        for (const gameObject of GameEnv.gameObjects) {\n",
    "            gameObject.update();  \n",
    "            gameObject.serialize(); \n",
    "            gameObject.draw(); \n",
    "        } \n",
    "    }\n",
    "}\n",
    "```\n",
    "\n",
    "### Player Update\n",
    "Here is an example of managing player updates. This is the update() method required by the GameLoop for class PlayerBase.  Using the SRP design pattern, each portion of update is split into a unique method...\n",
    "\n",
    "- updateAnimation().  Prepares the animation frame for the Player\n",
    "- updateMovement().  Handles the x and y changes of the Player\n",
    "- super.update().  Calls the update method of the parent class, Character\n",
    "\n",
    "```javascript\n",
    "update() {\n",
    "    // player methods\n",
    "    this.updateAnimation();\n",
    "    this.updateMovement();\n",
    "\n",
    "    // parent actions are performed after child specific actions\n",
    "    super.update();\n",
    "}\n",
    "```\n",
    "\n",
    "### Character Update\n",
    "Here is the super update method defined in class Character a direct descendent of class GameObject. PlayerBase is a Character direct descendent. This follow SRP design in Character handles moving characters like a player or a goomba, which require updates according to gravity and frames for animation.  \n",
    "\n",
    "- updateY(). Handles y axis updates, primarily related to gravity simulation.\n",
    "- updateFrameX().  Handles sprite frame updates, changing frame on each update cycle to simulate movement (animation)\n",
    "- collisionChecks(). Handles collisions checks, producing a data structure of collision events.\n",
    "\n",
    "```javascript\n",
    "update() {\n",
    "    // Update the y position of the character based on gravity\n",
    "    this.updateY();\n",
    "    // Update animation frameX of the object\n",
    "    this.updateFrameX(); \n",
    "    // Check for collisions, defined in GameObject which calls the collisionAction method\n",
    "    this.collisionChecks();\n",
    "}\n",
    "```\n",
    "\n",
    "### Player Collision Action (GameObject override)\n",
    "Here is an example of managing collision actions using SRP.  A key consideration in this SRP design, is the use of the PlayerBase class object data and state machines to manage the flow of control through SRP. \n",
    "\n",
    "- handleCollisionStart().  Watches for and sets up collision events for the Player.\n",
    "- handleCollisionEnd().  Tears down collisions no longer active for the Player.\n",
    "- setActiveCollision().  Sets the finite state name for the active collision.\n",
    "- handlePlayerReaction().  Updates the object data structure to represent the Player's reaction to the collision\n",
    "\n",
    "```javascript\n",
    "collisionAction() {\n",
    "    this.handleCollisionStart();\n",
    "    this.handleCollisionEnd();\n",
    "    this.setActiveCollision();\n",
    "    this.handlePlayerReaction();\n",
    "}\n",
    "```\n",
    "\n"
   ]
  },
  {
   "cell_type": "markdown",
   "metadata": {},
   "source": []
  }
 ],
 "metadata": {
  "kernelspec": {
   "display_name": "Python 3",
   "language": "python",
   "name": "python3"
  },
  "language_info": {
   "codemirror_mode": {
    "name": "ipython",
    "version": 3
   },
   "file_extension": ".py",
   "mimetype": "text/x-python",
   "name": "python",
   "nbconvert_exporter": "python",
   "pygments_lexer": "ipython3",
   "version": "3.11.8"
  }
 },
 "nbformat": 4,
 "nbformat_minor": 2
}
