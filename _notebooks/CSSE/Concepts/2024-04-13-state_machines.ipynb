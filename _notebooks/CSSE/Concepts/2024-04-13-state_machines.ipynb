{
 "cells": [
  {
   "cell_type": "raw",
   "metadata": {
    "vscode": {
     "languageId": "raw"
    }
   },
   "source": [
    "---\n",
    "toc: true\n",
    "comments: true\n",
    "layout: post\n",
    "title: Finite State Programming \n",
    "description: In a game, the player can only be in a finite number of states. The player can move from one state to another based on the player's actions. This is the essence of finite state programming.\n",
    "courses: { csse: {week: 20} }\n",
    "type: ccc\n",
    "---"
   ]
  },
  {
   "cell_type": "markdown",
   "metadata": {
    "vscode": {
     "languageId": "raw"
    }
   },
   "source": [
    "## State Machines \n",
    "\n",
    "State machines, also known as finite state machines (FSMs) or finite state automata (FSAs), are mathematical models of computation used in computer science, linguistics, and related fields. They are abstract machines that can be in exactly one of a finite number of states at any given time.\n",
    "\n",
    "### States\n",
    "\n",
    "In the context of a game, a state could represent the status or condition of a game character at a given time. For example, `state.animation` could represent the current animation state of a character, such as 'idle', 'walk', 'run', or 'jump'. Similarly, `state.collision` could represent the current collision state of a character, such as 'floor', 'wall', or 'jumpPlatform'.\n",
    "\n",
    "### Transitions\n",
    "\n",
    "Transitions are the rules or conditions that dictate when and how a state machine can move from one state to another. In a game, a transition could be triggered by a user action (like pressing a key), a timer, or a change in game conditions (like a collision with another object).\n",
    "\n",
    "### Actions\n",
    "\n",
    "Actions are the behaviors associated with a particular state. When a state machine enters a state, it might perform an action associated with that state. For example, if a character enters the 'walk' state, the action might be to start the walking animation.\n",
    "\n",
    "In the context of a game, state machines can be used to manage game logic, character behaviors, animations, and more. They provide a structured way to handle the complex, dynamic conditions that can arise in a game."
   ]
  },
  {
   "cell_type": "markdown",
   "metadata": {},
   "source": [
    "## The role of states in game logic \n",
    "Based on various factors, some synchronous and some asynchronous, the game states will change. JavaScript objects have been created to track these specific states. Finite state game logic is used to process these states as the game loop proceeds.\n",
    "\n",
    "Here is an example of collision finite state logic. This logic handles collisions between the player and other game objects.\n",
    "\n",
    "```javascript\n",
    "switch (this.state.collision) {\n",
    "    // 1. Player is on a jump platform\n",
    "    case \"jumpPlatform\":\n",
    "        // Player is on top of the jump platform\n",
    "        // ... code\n",
    "        break;\n",
    "    // 2. Player is on or touching a wall \n",
    "    case \"wall\":\n",
    "        // Player is on top of the wall\n",
    "        // ... code\n",
    "        break;\n",
    "    // 3. Player is in default state\n",
    "    case \"floor\":\n",
    "        // Player is on the floor\n",
    "        // ... code\n",
    "        break;\n",
    "}\n",
    "```\n",
    "\n",
    "Here is an example of animation finite state logic. This logic sets the sprite animation frame based on the player's current state.\n",
    "\n",
    "```javascript\n",
    "switch (this.state.animation) {\n",
    "    case 'idle':\n",
    "        this.setSpriteAnimation(this.playerData.idle[this.state.direction]);\n",
    "        break;\n",
    "    case 'walk':\n",
    "        this.setSpriteAnimation(this.playerData.walk[this.state.direction]);\n",
    "        break;\n",
    "    case 'run':\n",
    "        this.setSpriteAnimation(this.playerData.run[this.state.direction]);\n",
    "        break;\n",
    "    case 'jump':\n",
    "        this.setSpriteAnimation(this.playerData.jump[this.state.direction]);\n",
    "        break;\n",
    "    default:\n",
    "        console.error(`Invalid state: ${this.state.animation}`);\n",
    "}\n",
    "```\n",
    "\n",
    "### Finite state change\n",
    "The code below shows how objects can be changed to create a different state in the game. Be sure to review PlayerBase.js for the actual finite state game logic."
   ]
  },
  {
   "cell_type": "code",
   "execution_count": 17,
   "metadata": {
    "vscode": {
     "languageId": "javascript"
    }
   },
   "outputs": [
    {
     "data": {
      "application/javascript": "\nclass PlayerBase {\n    /**\n     * Initial environment of the player.\n     * @property {string} collision - Name of the current object the player is interacting with (e.g., 'floor', 'wall', 'platform').\n     * @property {Array} collisions -  An array that holds a collection of player collisions.\n     * @property {string} animation - Name of the current animation state of the player (e.g., 'idle', 'walk', 'run', 'jump').\n     * @property {string} direction - The direction the player is facing (e.g., 'left', 'right').\n     * @property {Object} movement - The directions in which the player can move.\n     * @property {boolean} movement.up - Whether the player can move up.\n     * @property {boolean} movement.down - Whether the player can move down.\n     * @property {boolean} movement.left - Whether the player can move left.\n     * @property {boolean} movement.right - Whether the player can move right.\n     * @property {boolean} movement.falling - Whether the player is falling.\n     * @property {boolean} isDying - Whether the player is dying.\n     */\n\n    // This object represents the initial state of the player when the game starts.\n    initEnvironmentState = {\n        // environment\n        collision: 'floor',\n        collisions: [],\n        // player\n        animation: 'idle',\n        direction: 'right',\n        movement: {up: false, down: false, left: true, right: true, falling: false},\n        isDying: false,\n    };\n\n    /** GameObject: Constructor for Player object\n     */\n    constructor() {      \n        this.state = {...this.initEnvironmentState}; // Player and environment states \n    }\n\n    toStringStates() {\n        var msg = \"Animation: \" + this.state.animation;\n        msg += \", Collision: \" + this.state.collision;\n        msg += \", Direction: \" + this.state.direction;\n        msg += \",\";\n        return msg;\n    }\n\n    toStringAction() {\n        var msg = \"Movement: \";\n        for (const [key, value] of Object.entries(this.state.movement)) {\n            msg += key + \": \" + value + \", \";\n        }\n        return msg;\n    }\n\n    toString() {\n        return this.toStringStates() + \"\\n\" + this.toStringAction();\n    }   \n}\n\n// Create a new PlayerBase object\nvar player = new PlayerBase();\nelement.append(player.toString()); // 'element.append' only works in Jupyter. Use 'console.log()' in a web environment.\n\n// Spacing for the next output\nelement.append('<br><br>');\n\n// Change the collision state of the player\nplayer.state.animation = 'jump';\nplayer.state.collision = 'jumpPlatform';\nplayer.state.direction = 'left';\nplayer.state.movement = {up: false, down: false, left: true, right: true, falling: false};\nelement.append(player.toString());\n",
      "text/plain": [
       "<IPython.core.display.Javascript object>"
      ]
     },
     "metadata": {},
     "output_type": "display_data"
    }
   ],
   "source": [
    "%%js\n",
    "\n",
    "class PlayerBase {\n",
    "    /**\n",
    "     * Initial environment of the player.\n",
    "     * @property {string} collision - Name of the current object the player is interacting with (e.g., 'floor', 'wall', 'platform').\n",
    "     * @property {Array} collisions -  An array that holds a collection of player collisions.\n",
    "     * @property {string} animation - Name of the current animation state of the player (e.g., 'idle', 'walk', 'run', 'jump').\n",
    "     * @property {string} direction - The direction the player is facing (e.g., 'left', 'right').\n",
    "     * @property {Object} movement - The directions in which the player can move.\n",
    "     * @property {boolean} movement.up - Whether the player can move up.\n",
    "     * @property {boolean} movement.down - Whether the player can move down.\n",
    "     * @property {boolean} movement.left - Whether the player can move left.\n",
    "     * @property {boolean} movement.right - Whether the player can move right.\n",
    "     * @property {boolean} movement.falling - Whether the player is falling.\n",
    "     * @property {boolean} isDying - Whether the player is dying.\n",
    "     */\n",
    "\n",
    "    // This object represents the initial state of the player when the game starts.\n",
    "    initEnvironmentState = {\n",
    "        // environment\n",
    "        collision: 'floor',\n",
    "        collisions: [],\n",
    "        // player\n",
    "        animation: 'idle',\n",
    "        direction: 'right',\n",
    "        movement: {up: false, down: false, left: true, right: true, falling: false},\n",
    "        isDying: false,\n",
    "    };\n",
    "\n",
    "    /** GameObject: Constructor for Player object\n",
    "     */\n",
    "    constructor() {      \n",
    "        this.state = {...this.initEnvironmentState}; // Player and environment states \n",
    "    }\n",
    "\n",
    "    toStringStates() {\n",
    "        var msg = \"Animation: \" + this.state.animation;\n",
    "        msg += \", Collision: \" + this.state.collision;\n",
    "        msg += \", Direction: \" + this.state.direction;\n",
    "        msg += \",\";\n",
    "        return msg;\n",
    "    }\n",
    "\n",
    "    toStringAction() {\n",
    "        var msg = \"Movement: \";\n",
    "        for (const [key, value] of Object.entries(this.state.movement)) {\n",
    "            msg += key + \": \" + value + \", \";\n",
    "        }\n",
    "        return msg;\n",
    "    }\n",
    "\n",
    "    toString() {\n",
    "        return this.toStringStates() + \"\\n\" + this.toStringAction();\n",
    "    }   \n",
    "}\n",
    "\n",
    "// Create a new PlayerBase object\n",
    "var player = new PlayerBase();\n",
    "element.append(player.toString()); // 'element.append' only works in Jupyter. Use 'console.log()' in a web environment.\n",
    "\n",
    "// Spacing for the next output\n",
    "element.append('<br><br>');\n",
    "\n",
    "// Change the collision state of the player\n",
    "player.state.animation = 'jump';\n",
    "player.state.collision = 'jumpPlatform';\n",
    "player.state.direction = 'left';\n",
    "player.state.movement = {up: false, down: false, left: true, right: true, falling: false};\n",
    "element.append(player.toString());"
   ]
  }
 ],
 "metadata": {
  "kernelspec": {
   "display_name": "Python 3",
   "language": "python",
   "name": "python3"
  },
  "language_info": {
   "codemirror_mode": {
    "name": "ipython",
    "version": 3
   },
   "file_extension": ".py",
   "mimetype": "text/x-python",
   "name": "python",
   "nbconvert_exporter": "python",
   "pygments_lexer": "ipython3",
   "version": "3.11.8"
  }
 },
 "nbformat": 4,
 "nbformat_minor": 2
}
