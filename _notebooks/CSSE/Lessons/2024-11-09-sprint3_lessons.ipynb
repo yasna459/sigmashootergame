{
 "cells": [
  {
   "cell_type": "raw",
   "metadata": {
    "vscode": {
     "languageId": "raw"
    }
   },
   "source": [
    "---\n",
    "layout: post\n",
    "title: JavaScript Teaching Prep \n",
    "description: Outline to assist in planning for teaching JavaScript lessons. \n",
    "type: issues \n",
    "courses: { csse: {week: 4} }\n",
    "comments: true\n",
    "permalink: /csse/sprint2/lessons\n",
    "---"
   ]
  },
  {
   "cell_type": "markdown",
   "metadata": {},
   "source": [
    "## Lessons Requirements\n",
    "\n",
    "Teaching lessons and showing understanding are **critical** to meet college articulation requirements.\n",
    "\n",
    "### Prepare\n",
    "\n",
    "> One Notebook for each person.  The team of teachers will assign homework to students.\n",
    "\n",
    "- Lessons will be taught in teams of 4. \n",
    "- 2 Notebooks for lecture, 1 for Popcorn hacks, 1 for Homework. Each is done by different per person. \n",
    "- Plan to teach for 3 to 5 minutes.  Mixing in Popcorn Hacks and Finishing with Homework.\n",
    "- Each individual lesson will have a Jupyter Notebooks and have code cells that run.\n",
    "- Try to add game concepts to your lesson to make your lesson more interesting to the class.\n",
    "- Utilize HTML Input and DOM elements for outputs.  This will help lessons be more \"game\" like if you can interact with the cell.\n",
    "- Plan to assist students on Popcorn hack.  Students should be able to complete it all popcorn hacks in class.\n",
    "- A Homework Notebook(s) should be prepared that contains everything needed to be turned in to graders.\n",
    "  - Prepare detail instructions on popcorn hacks.\n",
    "  - Prepare homework idea that can be accomplished in about 15-30 minutes.  \n",
    "  - Share weighting of Popcorn hack and homework, #PH1 .20, #PH2, .20, HW, .50\n",
    "- Be sure you review your team teach work prior to teaching lessons.  Lessons should complement each other, not be repetitive.\n",
    "\n",
    "### Teaching Day\n",
    "\n",
    "> All team teachers need to have teaching part and guide students through a popcorn hack and homework.\n",
    "\n",
    "- Student/Teachers will call class to order\n",
    "- Student/Teachers will provide instructions on where to obtain lessons.\n",
    "- Teach concepts and conclude each individual sesson with a Popcorn Hacks.\n",
    "- Students will guide Popcorn Hacks and assign Homework.\n",
    "- Students will post an Utterance Issue on Slack in #coding to collect HW for grading.  \n",
    "- Students will allow one evening for HW completion.\n",
    "\n",
    "### Grading\n",
    "\n",
    "> Student/Teachers will grade homework 24 hours after collection time.\n",
    "- Grading is on .9 basis if on time, .8 basis if late\n",
    "- Students receive .01 extra credit if HW is shown on blog with dynamic inputs and outputs, using DOM.\n",
    "- Update Issue with score on each part (popcorn hacks, homework).\n",
    "- Make comments on each item where deduction or extra credit is provided."
   ]
  },
  {
   "cell_type": "markdown",
   "metadata": {},
   "source": [
    "## Winter 2025 schdule\n",
    "\n",
    "Obtain files from portfolio_2025 `Lessons` directory.  GitHub [link](https://github.com/nighthawkcoders/portfolio_2025/tree/main/_notebooks/CSSE/Lessons).\n",
    "\n",
    "Make Schedule\n",
    "\n",
    "| Group | Lesson | Day |\n",
    "|-------|--------|-----|\n",
    "|  student names  |  Variables     | Mon |\n",
    "|  student names  |  Boolean expressions  | Tue   |\n",
    "|  student names  |  Conditions  |  Wed |\n",
    "|  student names  |  Loops  | Thu |\n"
   ]
  }
 ],
 "metadata": {
  "language_info": {
   "name": "python"
  }
 },
 "nbformat": 4,
 "nbformat_minor": 2
}
