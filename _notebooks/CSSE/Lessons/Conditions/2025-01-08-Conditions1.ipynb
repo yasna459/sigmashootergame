{
 "cells": [
  {
   "cell_type": "code",
   "execution_count": null,
   "metadata": {
    "vscode": {
     "languageId": "yaml"
    }
   },
   "outputs": [],
   "source": [
    "---\n",
    "layout: post\n",
    "title: Conditions-1\n",
    "description: Condition Lesson 1\n",
    "categories: [CSSE JavaScript Fundamentals]\n",
    "permalink: /csse/javascript/fundamentals/Conditions1\n",
    "author: Katherine Law, Yasna Ahmadi, Yuna Lee, Namira Sharif\n",
    "toc: true\n",
    "comments: true\n",
    "---"
   ]
  },
  {
   "cell_type": "markdown",
   "metadata": {},
   "source": [
    "# All About Conditions\n",
    "\n",
    "## ***What is conditions?*** \n",
    "Conditional Statements are what happens next in the program when a certain condition is met. \n",
    "=======\n",
    "### **Key Components**\n",
    "Condition: A question the computer evaluates, such as \"is this true or false?\"\n",
    "\n",
    "Action: Checks if something is true or false\n",
    "\n",
    "Optional Action: Runs different parts of the code depending on that\n",
    "\n",
    "### **Conditional Statements**: \n",
    "There are many types of statements that all help do different things depending on the amount of values, answers and etc..\n",
    "\n",
    "<u>If Statements</u>: Checks if a condition is true and then executes something. \n",
    "- For example: If it's raining, take an umbrella\n",
    "\n",
    "<u>Branch Statements</u>: Provides multiple options depending on the condition.\n",
    "- For example: If it's raining, take an umbrella, if not wear sunglasses.\n",
    "\n",
    "<u>If Else Statements</u>: Checks if a condition is true or false and then provides an execution for both. \"If\" checks if something is true. \"Else\" checks if something is false.\n",
    "- For example: If you bought a membership the program will print \"Welcome in.\"\n",
    "If you didn't buy a membership the program will print \"Invalid Membership\"\n",
    "\n",
    "<u>Else If Statements</u>: Checks Multiple conditions first if they are true and if not does the final condition\n",
    "- For Example: If you are younger then 10: You get a popsicle\n",
    "If you are you 10 or older but not older then 20: You get a sandwhich\n",
    "If you are older or 20: \n",
    "\n",
    "\n",
    "\n",
    "\n"
   ]
  },
  {
   "cell_type": "markdown",
   "metadata": {},
   "source": [
    "### **Breaking it Down** \n",
    "Example in Javascript:"
   ]
  },
  {
   "cell_type": "code",
   "execution_count": 3,
   "metadata": {
    "vscode": {
     "languageId": "javascript"
    }
   },
   "outputs": [
    {
     "data": {
      "application/javascript": "\nif (5>3) {\n    console.log(\"5 is greater than 3.\");\n} \n",
      "text/plain": [
       "<IPython.core.display.Javascript object>"
      ]
     },
     "metadata": {},
     "output_type": "display_data"
    }
   ],
   "source": [
    "%%js\n",
    "\n",
    "if (5>3) {\n",
    "    console.log(\"5 is greater than 3.\");\n",
    "} \n"
   ]
  },
  {
   "cell_type": "markdown",
   "metadata": {},
   "source": [
    "Adding else when using conditions in Javascript:"
   ]
  },
  {
   "cell_type": "code",
   "execution_count": 4,
   "metadata": {
    "vscode": {
     "languageId": "javascript"
    }
   },
   "outputs": [
    {
     "data": {
      "application/javascript": "let age = 18;\nif (age>= 18) {\n    console.log(\"You can vote.\");\n} else if (age<= 18) {\n    console.log(\"You cannot vote yet.\");\n}\n",
      "text/plain": [
       "<IPython.core.display.Javascript object>"
      ]
     },
     "metadata": {},
     "output_type": "display_data"
    }
   ],
   "source": [
    "%%js\n",
    "let age = 18;\n",
    "if (age>= 18) {\n",
    "    console.log(\"You can vote.\");\n",
    "} else if (age<= 18) {\n",
    "    console.log(\"You cannot vote yet.\");\n",
    "}"
   ]
  }
 ],
 "metadata": {
  "kernelspec": {
   "display_name": "venv",
   "language": "python",
   "name": "python3"
  },
  "language_info": {
   "codemirror_mode": {
    "name": "ipython",
    "version": 3
   },
   "file_extension": ".py",
   "mimetype": "text/x-python",
   "name": "python",
   "nbconvert_exporter": "python",
   "pygments_lexer": "ipython3",
   "version": "3.13.1"
  }
 },
 "nbformat": 4,
 "nbformat_minor": 2
}
