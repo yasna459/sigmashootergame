{
 "cells": [
  {
   "cell_type": "code",
   "execution_count": null,
   "metadata": {
    "vscode": {
     "languageId": "yaml"
    }
   },
   "outputs": [],
   "source": [
    "---\n",
    "toc: false\n",
    "layout: post\n",
    "title: Game Help - Platformer \n",
    "description: Build search and topic guide to the Platformer4x game.  Think about topics and help system to foster learning, discussion, and exploration of game.\n",
    "permalink: /platformer/intro\n",
    "type: ccc \n",
    "courses: { csse: {week: 17} }\n",
    "author: Nicholas Ramos,  Samaya Sankuratri\n",
    "---\n"
   ]
  },
  {
   "cell_type": "markdown",
   "metadata": {},
   "source": [
    "## [Link to final game](https://nighthawkcoders.github.io/platformer4x/)"
   ]
  },
  {
   "cell_type": "markdown",
   "metadata": {},
   "source": [
    "**Lesson Overview: Building a Mario-Inspired Platformer Game**\n",
    "In this comprehensive game help system and notebooks, we will guide future developers through a step-by-step process of creating all of the key components of this Mario-inspired platformer game. The help system is broken down into various categories (using front matter), each category focusses on a specific aspect of the game, implementation, and suggests hacks for deeper learning. By the end of reviewing the help topics, you will have better understanding of the platformer game components and be encouraged to extend the game.\n",
    "\n",
    "**Category 1-Player: Setting Up the Player Character**\n",
    "- Learn how to set up the game canvas using HTML and JavaScript.\n",
    "- Create the player character class with attributes like position, velocity, and dimensions.\n",
    "- Implement basic player movement and physics, including gravity and jumping.\n",
    "\n",
    "**Category 2-Platform: Designing Platforms and Collision Detection**\n",
    "- Design and draw platforms on the canvas.\n",
    "- Implement collision detection between the player character and platforms.\n",
    "- Enable the player to walk and jump on platforms while accounting for gravity.\n",
    "\n",
    "**Category 3-Finish: Transitioning with Tubes**\n",
    "- Render tubes that allow the player to transition between different levels.\n",
    "- Add an element of exploration and hidden secrets through tube connections.\n",
    "- Consider alternat endings.\n",
    "\n",
    "**Category 4-Block: Interactive Blocks and Power-ups**\n",
    "- Introduce interactive blocks.\n",
    "- Develop a mechanism for the player to interact with blocks through collisions.\n",
    "\n",
    "**Category 5-Enemies: Implementing Enemies (Goombas)**\n",
    "- Introduce enemy characters (Goombas) that move horizontally across platforms.\n",
    "- Define enemy behavior, including collision interactions with the player character.\n",
    "- Create a system to defeat enemies through collision and jumping.\n",
    "\n",
    "**Category 6-Background: Creating a Dynamic Background**\n",
    "- Craft a visually appealing background that complements the game's theme.\n",
    "- Incorporate background elements that contribute to the game's atmosphere and aesthetics with parallax scrolling for a realistic effect.\n",
    "- Ensure that the background remains consistent as the player character moves across the level.\n"
   ]
  }
 ],
 "metadata": {
  "language_info": {
   "name": "python"
  },
  "orig_nbformat": 4
 },
 "nbformat": 4,
 "nbformat_minor": 2
}
