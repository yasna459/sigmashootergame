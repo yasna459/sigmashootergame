{
 "cells": [
  {
   "cell_type": "raw",
   "metadata": {
    "vscode": {
     "languageId": "raw"
    }
   },
   "source": [
    "---\n",
    "layout: post\n",
    "title: KASM User Guide\n",
    "description: How to Start Using KASM\n",
    "categories: [Kasm]\n",
    "menu: nav/kasm_cloud.html\n",
    "toc: true\n",
    "comments: true\n",
    "permalink: /kasm/userguide\n",
    "author: Isabel Marilla\n",
    "---"
   ]
  },
  {
   "cell_type": "markdown",
   "metadata": {},
   "source": [
    "If you're on this document, you probably need a KASM server. Whether you have a school-issued chromebook or you want to try out KASM servers rather than directly downloading VS code and other tools onto your machine, this is the guide for you! If you are unfamilar with KASM  Servers, check out this [documentation]({{site.baseurl}}/kasm/pages/intro) first!"
   ]
  },
  {
   "cell_type": "markdown",
   "metadata": {},
   "source": [
    "Now, we can move on to actually creating your KASM account.  If you haven't already, make an account on site. If you need a KASM server, make sure to click the checkbox next to KASM server needed.\n",
    "\n",
    "![kasmsignup]({{site.baseurl}}/images/kasm/kasmsignup.png)"
   ]
  },
  {
   "cell_type": "markdown",
   "metadata": {},
   "source": [
    "If you already made an account, log in and check your profile to see if you have KASM server needed. If you do, you have already been created as a KASM user. If not, click on the KASM user checkbox and an KASM user will be created based  with the credentials you use to log in to ncs.org. \n",
    "\n",
    "![ncslogin]({{site.baseurl}}/images/kasm/ncslogin.png)"
   ]
  },
  {
   "cell_type": "markdown",
   "metadata": {},
   "source": [
    "Then navigate to this [site](https://kasm.nighthawkcodingsociety.com/#/staticlogin) and use the same credentials you used to log in ncs.org in the login page. \n",
    "![kasmlogin]({{site.baseurl}}/images/kasm/kasmlogin.png)\n"
   ]
  },
  {
   "cell_type": "markdown",
   "metadata": {},
   "source": [
    "Choose the the CSA workspace. If you are enrolled in CSA, CSP, or CSSE we will use the same workspace. "
   ]
  },
  {
   "cell_type": "markdown",
   "metadata": {},
   "source": [
    "After you click on a workspace, you should see this screen:\n",
    "![launch]({{site.baseurl}}/images/kasm/launch.png)"
   ]
  },
  {
   "cell_type": "markdown",
   "metadata": {},
   "source": [
    "Once you launch the session, you should see this screen: \n",
    "![kasmUI]({{site.baseurl}}/images/kasm/kasmUI.png)\n",
    "\n",
    "Then, you can click on the  vscode icon to get here:\n",
    "![kasmUI]({{site.baseurl}}/images/kasm/vskasm.png)\n",
    "\n",
    "\n"
   ]
  },
  {
   "cell_type": "markdown",
   "metadata": {},
   "source": [
    "## Project and Tool Setup\n",
    "\n",
    "Now, we can set up the tools you need on VS Code."
   ]
  },
  {
   "cell_type": "markdown",
   "metadata": {},
   "source": [
    "### Clone your repository\n",
    "\n",
    "Click **Application** and open a **Terminal Emulator**.  This opens a Terminal with a prompt `default:~$`.  After the prompt we will type shell commands.\n",
    "\n",
    "```bash\n",
    "#  Make a directory for your project\n",
    "mkdir nighthawk\n",
    "cd nighthawk\n",
    "\n",
    "# Clone you personal repository, we wil use student_2025 in this example\n",
    "git clone https://github.com/nighthawkcoders/student_2025.git\n",
    "\n",
    "---\n",
    "\n",
    "<br>"
   ]
  },
  {
   "cell_type": "markdown",
   "metadata": {},
   "source": [
    "### Personalize your project\n",
    "\n",
    "We need to edit a file and make changes according to your personal GitHub account.\n",
    "\n",
    "#### Navigate using cd\n",
    "Use the **cd** command to navigate to the directory containing the `activate.sh` file.\n",
    "\n",
    "```bash\n",
    "# Locate file in your cloned project\n",
    "cd ~/nighthawk/student_2025/scripts\n",
    "```\n",
    "\n",
    "#### Open file with nano\n",
    "\n",
    "```bash\n",
    "nano activate.sh\n",
    "```\n",
    "\n",
    "#### Edit the Environment Variables\n",
    "Use the arrow keys to navigate to the lines containing `export GIT_USER_NAME` and `export GIT_USER_EMAIL`. \n",
    "\n",
    "Change `jm1021` and `jmort1021@gmail.com` to your personal GitHub username and email.\n",
    "\n",
    "```sh\n",
    "export GIT_USER_NAME=\"your_github_username\"\n",
    "export GIT_USER_EMAIL=\"your_email@example.com\"\n",
    "```\n",
    "\n",
    "#### Save the Changes\n",
    "- Press `Ctrl+O` to save the changes.\n",
    "- Press `Enter` to confirm the file name.\n",
    "\n",
    "#### Exit nano\n",
    "- Press `Ctrl+X` to exit `nano`.\n",
    "\n",
    "---\n",
    "\n",
    "<br>"
   ]
  },
  {
   "cell_type": "markdown",
   "metadata": {},
   "source": [
    "### Finish Tool Setup\n",
    "\n",
    "After making the changes, you need to activate the environment to apply the new settings.\n",
    "\n",
    "The script will take about 5 minutes to run.\n",
    "\n",
    "```bash\n",
    "# Move to Project Directory\n",
    "cd ~/nighthawk/student_2025\n",
    "\n",
    "# run activate script\n",
    "./scripts/activate.sh\n",
    "```\n",
    "\n",
    "---\n",
    "\n",
    "<br>"
   ]
  },
  {
   "cell_type": "markdown",
   "metadata": {},
   "source": [
    "### Version Checks \n",
    "\n",
    "From here the steps should behave the same for all.  \n",
    "\n",
    "1. **Close existing terminal!!!**\n",
    "2. Then start a new terminal.  Start and stop are required to make sure changes to you machine have taken effect.\n",
    "3. Run each check below, if the check does not work, you will need to backup to resolve it now!!!\n",
    "\n",
    "```bash\n",
    "# Show the active Ruby version, it needs to be 3 or higher\n",
    "ruby -v\n",
    "# Bundler version, it is part of Ruby install\n",
    "bundle -v\n",
    "\n",
    "# Show active Python version, it needs to be 3.10 or better\n",
    "python --version\n",
    "\n",
    "# Show Jupyter packages, nbconvert needs to be in the list of installed\n",
    "jupyter --version\n",
    "```\n",
    "---"
   ]
  },
  {
   "cell_type": "markdown",
   "metadata": {},
   "source": [
    "## Starting a Project \n",
    "The following commands are the same for all machine types, terminals, and projects. The previous installation steps were to ensure all machine types had compatible tools.\n",
    "\n",
    "Follow the steps in order.\n",
    "\n",
    "1. **Open a Linux-supported Terminal**\n",
    "\n",
    "2. **Move to your home directory:**\n",
    "```bash\n",
    "cd\n",
    "cd nighthawk\n",
    "```\n",
    "\n",
    "4. **Prepare project prior to opening VS Code:**\n",
    "```bash\n",
    "# move to project directory\n",
    "cd student_2025\n",
    "# activate virtual environment, observe prompt change after running it\n",
    "source venv/bin/activate\n",
    "# check if jupyter kernels are activated\n",
    "jupyter kernelspec list\n",
    "# if all worked well open VSCode\n",
    "code .\n",
    "```\n",
    "\n",
    "5. At this point or in near future, you may be asked to establish keychaing (KASM) and/or authenticate with GitHub. Follow the dialog and instructions. If keyring appears; be sure to authenticate. Using credentials similar to GitHub should be OK.\n",
    "\n",
    "---\n",
    "\n",
    "<br>"
   ]
  },
  {
   "cell_type": "markdown",
   "metadata": {},
   "source": [
    "###  Open Project and Make\n",
    "\n",
    "All students are building a GitHub Pages website.  These steps get your website running each time you re-activate your desktop (local or cloud).\n",
    "\n",
    "1. Open a terminal \n",
    "\n",
    "2. Type `cd ~/nighthawk/portfolio/student_2025`\n",
    "\n",
    "3. Activate virtual environment `source venv/bin/activate`\n",
    "\n",
    "4. Open VSCode `code .`\n",
    "\n",
    "5. Open a VSCode Terminal\n",
    "\n",
    "6. Type `make` This runs a build to a local server. Repeat this command as often as you make changes.\n",
    "\n",
    "7. Hover then Cmd or Ctl Click on the Server address **<http://127.0.0.1> ...** provided in the terminal output from the make command.\n",
    "\n",
    "```bash\n",
    "### Congratulations!!! An output similar to below means tool and equipment success ###\n",
    "johnmortensen@Johns-MBP portfolio_2025 % make\n",
    "Stopping server...\n",
    "Stopping logging process...\n",
    "Starting server...\n",
    "Server PID: 48190\n",
    "Terminal logging starting, watching server...\n",
    "Server started in 3 seconds\n",
    "Configuration file: /Users/johnmortensen/vscode/portfolio_2025/_config.yml\n",
    "To use retry middleware with Faraday v2.0+, install `faraday-retry` gem\n",
    "            Source: /Users/johnmortensen/vscode/portfolio_2025\n",
    "       Destination: /Users/johnmortensen/vscode/portfolio_2025/_site\n",
    " Incremental build: disabled. Enable with --incremental\n",
    "      Generating... \n",
    "      Remote Theme: Using theme jekyll/minima\n",
    "                    done in 2.493 seconds.\n",
    " Auto-regeneration: enabled for '/Users/johnmortensen/vscode/portfolio_2025'\n",
    "    Server address: http://127.0.0.1:4100/portfolio_2025/\n",
    "```\n",
    "\n",
    "#### Make workflow (local build: make, make clean, make stop, make convert)\n",
    "\n",
    "These commands are used to build and manage a localhost version of the website. The purpose of this is to verify and test code changes prior to pushing changes to GitHub Pages.\n",
    "\n",
    "- `make`: Runs the local server.\n",
    "\n",
    "- `make clean`: Stops the local server and cleans the files.\n",
    "\n",
    "- `make stop`: Stops the local server. This means you will be unable to access your blog on <http://localhost> until you run `make` again.\n",
    "\n",
    "- `make convert`: Converts Jupyter Notebook files. Run this if your `.ipynb` files are not updating on the server; it may assist in finding the error."
   ]
  },
  {
   "cell_type": "markdown",
   "metadata": {},
   "source": [
    "### VSCode Commit and Sync Workflow\n",
    "\n",
    "All students will be writing and changing code.  These steps allow you to change the website, first locally and then on public location.\n",
    "\n",
    "```text\n",
    "+-------------------+       +-------------------+       +-------------------+       +-------------------+\n",
    "|                   |       |                   |       |                   |       |                   |\n",
    "|   VS Code Editor  | ----> |   Local Git Repo  | ----> |   Remote GitHub   | ----> |   GitHub Pages    |\n",
    "|                   |       |                   |       |                   |       |                   |\n",
    "+-------------------+       +-------------------+       +-------------------+       +-------------------+\n",
    "        |                           |                           |                           |\n",
    "        |                           |                           |                           |\n",
    "        v                           v                           v                           v\n",
    "    Save Files                Commit Changes               Sync Changes                Public Website\n",
    "   Local Website\n",
    "```\n",
    "\n",
    "#### Detailed Steps\n",
    "\n",
    "1. Save Files in VS Code:\n",
    "- Edit your files.\n",
    "- Save the changes (Cmd + S on Mac or Ctrl + S on Windows/Linux).\n",
    "- Verify changes on desktop webserver.\n",
    "\n",
    "2. Commit Changes in VS Code:\n",
    "- Click on the \"Source Control\" icon in the left sidebar.\n",
    "- Stage your changes by clicking the plus sign next to the files.\n",
    "- Enter a commit message.\n",
    "- Click the \"Commit\" button.\n",
    "\n",
    "3. Sync Changes to GitHub:\n",
    "- Click the \"Sync Changes\" button in the Source Control view.\n",
    "- This pushes your local commits to the remote GitHub repository.\n",
    "\n",
    "4. Update GitHub Pages:\n",
    "- GitHub Pages automatically rebuilds your site with the latest changes.\n",
    "- Visit your public website at https://<yourGitHubID>.github.io/student_2025 to see the updates."
   ]
  }
 ],
 "metadata": {
  "language_info": {
   "name": "python"
  }
 },
 "nbformat": 4,
 "nbformat_minor": 2
}
